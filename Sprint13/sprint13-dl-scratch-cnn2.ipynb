{
 "cells": [
  {
   "cell_type": "markdown",
   "metadata": {},
   "source": [
    "# Sprint13"
   ]
  },
  {
   "cell_type": "code",
   "execution_count": 1,
   "metadata": {},
   "outputs": [],
   "source": [
    "import numpy as np\n",
    "import pandas as pd\n",
    "import inspect, os\n",
    "\n",
    "# ログ表示\n",
    "class Log:\n",
    "    # 表示ログレベル\n",
    "    Loglevel = 0\n",
    "    def logLevelset(level):\n",
    "        # 表示ログレベルの設定\n",
    "        Log.Loglevel = level\n",
    "    def log_print(level, std, variable=None, obj=None):\n",
    "        if(Log.Loglevel >= level):\n",
    "            if(obj is not None):\n",
    "                print('class:{}'.format(obj.__class__.__name__), end=' ')\n",
    "            frame = inspect.currentframe().f_back\n",
    "            print(\"method:{} line:{}\"\n",
    "                .format(frame.f_code.co_name, frame.f_lineno))\n",
    "            if(variable is None):\n",
    "                print(std)\n",
    "            else:\n",
    "                if(len(variable) == 1):\n",
    "                    print(std.format(variable))\n",
    "                else:\n",
    "                    print(std.format(*variable))"
   ]
  },
  {
   "cell_type": "code",
   "execution_count": 2,
   "metadata": {},
   "outputs": [],
   "source": [
    "Log.logLevelset(2)"
   ]
  },
  {
   "cell_type": "markdown",
   "metadata": {},
   "source": [
    "# 2D convolution"
   ]
  },
  {
   "cell_type": "code",
   "execution_count": 8,
   "metadata": {},
   "outputs": [],
   "source": [
    "class Conv2d:\n",
    "    def __init__(self, FN, FH, FW, padding, ir, stride=1):\n",
    "        self.FN = FN # フィルタ数\n",
    "        self.FH = FH # フィルタの高さ\n",
    "        self.FW = FW # フィルタの幅\n",
    "        self.P = padding # パディング数\n",
    "        self.S = stride # スライド数\n",
    "        self.B = 1\n",
    "        self.W = np.arange(FN*FH*FW).reshape(FN, FH, FW).astype(np.float)\n",
    "        self.forward_x = None\n",
    "        self.ir = ir\n",
    "    \n",
    "    def forward(self, X):\n",
    "        \n",
    "        self.forward_x = X.copy()\n",
    "        \n",
    "        # 各パラメータを設定\n",
    "        # 入力データの次元数を取得\n",
    "        n_channel, n_high, n_wide = X.shape\n",
    "        \n",
    "        # パディング対応\n",
    "        X = np.pad(X, ((0,0), (self.P,self.P), (self.P,self.P)), 'constant')\n",
    "        \n",
    "        indexs = np.arange(n_wide)\n",
    "        out_c = self.FN\n",
    "        out_h = np.trunc( (n_high + 2*self.P - self.FH )/self.S +1).astype(np.int)\n",
    "        out_w = np.trunc( (n_wide + 2*self.P - self.FW )/self.S +1 ).astype(np.int)\n",
    "\n",
    "        output = np.empty((out_c, out_h, out_w))\n",
    "        \n",
    "        for FN in range(out_c):\n",
    "            # 高さ×幅分回す\n",
    "            j = 0\n",
    "            for high in range(0, n_high, self.S):\n",
    "                i = 0\n",
    "                for wide in range(0, n_wide, self.S):\n",
    "                    # 幅方向のインデックスを取得\n",
    "                    index = indexs[wide:wide+self.FW]\n",
    "                    # 高さ方向にインデックスをブロードキャスト\n",
    "                    output[FN, j, i] = np.sum(X[:,high:high+self.FH, index]*self.W[FN,:,:]) + self.B\n",
    "\n",
    "                    # 次の幅方向にスライドできるかチェック\n",
    "                    if((wide + self.FW + self.S -1) >= n_wide):\n",
    "                        break\n",
    "\n",
    "                # 次の高さ方向にスライドできるかチェック\n",
    "                if((high + self.FH + self.S -1) >= n_high):\n",
    "                    break\n",
    "        \n",
    "        return output\n",
    "    \n",
    "    def backward(self, delta):\n",
    "        \"\"\"\n",
    "        バイアスの逆伝搬\n",
    "        \"\"\"\n",
    "        # 勾配\n",
    "        dB = np.mean(delta, axis=(1,2))\n",
    "\n",
    "        #Log.log_print(1, \"dB.shape:{}\", (dB.shape), self)\n",
    "        #Log.log_print(2, \"dB:{}\", dB, self)\n",
    "\n",
    "        # 更新\n",
    "        self.B -= self.ir*dB.astype(np.float)\n",
    "\n",
    "        #Log.log_print(1, \"self.B.shape:{}\", (self.B.shape), self)\n",
    "        #Log.log_print(2, \"self.B:{}\", self.B , self)\n",
    "        \n",
    "        \"\"\"\n",
    "        出力の逆伝搬\n",
    "        \"\"\"\n",
    "        delta = delta.astype(np.float)\n",
    "        \n",
    "        #　勾配\n",
    "        n_channel, n_high, n_wide = self.forward_x.shape\n",
    "        \n",
    "        dX = np.empty((n_channel, n_high, n_wide)).astype(np.float)\n",
    "        \n",
    "        # InPut のチャネル数\n",
    "        for channel in range(n_channel):\n",
    "            temp = 0\n",
    "            for high in range(n_high):\n",
    "                for wide in range(n_wide):\n",
    "                    for j in range(self.W.shape[0]):\n",
    "                        for i in range(self.W.shape[1]):\n",
    "                            if( ((high - j) < 0) or ((high - j) >= delta.shape[0]) ):\n",
    "                                a = 0\n",
    "                            elif( ((wide - i) < 0) or ( (wide - i) >= delta.shape[1])):\n",
    "                                a = 0\n",
    "                            else:\n",
    "                                a = delta[:, high - j, wide - i]\n",
    "                            temp += a * self.W[:, j, i]\n",
    "                    dX[channel, high, wide] = np.sum(temp)\n",
    "\n",
    "        \"\"\"\n",
    "        カーネルの逆伝搬\n",
    "        \"\"\"\n",
    "        # 勾配\n",
    "        n_FN, n_high, n_wide = self.W.shape\n",
    "        n_out_channel, n_out_wide, n_out_high = delta.shape\n",
    "        \n",
    "        indexs = np.arange(self.forward_x.shape[1])\n",
    "        dW = np.empty((n_FN, n_high, n_wide)).astype(np.float)\n",
    "        # FNの数\n",
    "        for FN in range(n_FN):\n",
    "            j = 0\n",
    "            for high in range(n_high):\n",
    "                i = 0\n",
    "                for wide in range(n_wide):\n",
    "                    index = indexs[wide:wide+n_out_wide]\n",
    "                    dW[FN, j, i] = np.sum( np.dot(self.forward_x[:, high:high+n_out_high, index], delta[FN, :, :]) )\n",
    "                i += 1\n",
    "            j += 1\n",
    "        \n",
    "        # 更新\n",
    "        self.W -= self.ir*dW\n",
    "\n",
    "        return dX "
   ]
  },
  {
   "cell_type": "markdown",
   "metadata": {},
   "source": [
    "# 実行結果"
   ]
  },
  {
   "cell_type": "code",
   "execution_count": 9,
   "metadata": {},
   "outputs": [
    {
     "data": {
      "text/plain": [
       "array([[[ 0.,  1.,  2.,  3.,  4.,  5.,  6.,  7.],\n",
       "        [ 8.,  9., 10., 11., 12., 13., 14., 15.],\n",
       "        [16., 17., 18., 19., 20., 21., 22., 23.],\n",
       "        [24., 25., 26., 27., 28., 29., 30., 31.],\n",
       "        [32., 33., 34., 35., 36., 37., 38., 39.],\n",
       "        [40., 41., 42., 43., 44., 45., 46., 47.],\n",
       "        [48., 49., 50., 51., 52., 53., 54., 55.],\n",
       "        [56., 57., 58., 59., 60., 61., 62., 63.]]])"
      ]
     },
     "execution_count": 9,
     "metadata": {},
     "output_type": "execute_result"
    }
   ],
   "source": [
    "test = np.arange(8*8).reshape(1,8,8).astype(np.float)\n",
    "test"
   ]
  },
  {
   "cell_type": "code",
   "execution_count": 10,
   "metadata": {},
   "outputs": [],
   "source": [
    "instance = Conv2d(2, 3, 3, 0, 0.01)"
   ]
  },
  {
   "cell_type": "code",
   "execution_count": 11,
   "metadata": {},
   "outputs": [
    {
     "data": {
      "text/plain": [
       "array([[[2.09500000e+003, 6.01346953e-154, 6.13292705e-290,\n",
       "         9.42526130e+171, 9.50611371e-007, 6.01346954e-154],\n",
       "        [2.17234203e-153, 4.80549070e+116, 2.68993450e-110,\n",
       "         3.60705816e-085, 1.76004505e+078, 2.41317562e+185],\n",
       "        [3.60705816e-085, 3.62977568e+228, 1.95057883e-110,\n",
       "         6.01347002e-154, 6.01347002e-154, 1.70575323e+248],\n",
       "        [9.16526748e+242, 1.01345567e+267, 6.01334504e-154,\n",
       "         9.82157873e+252, 1.44420343e+214, 6.01334586e-154],\n",
       "        [9.82157873e+252, 5.28595592e-085, 2.05037367e-115,\n",
       "         5.86060639e-101, 3.60705816e-085, 2.41317558e+185],\n",
       "        [4.97532656e+180, 2.85557116e-110, 4.35294653e-114,\n",
       "         1.03472182e-259, 6.01347002e-154, 2.17237759e-153]],\n",
       "\n",
       "       [[6.46900000e+003, 5.03887214e+175, 4.97029684e+180,\n",
       "         3.53447545e+246, 1.35896403e-110, 5.72241203e-153],\n",
       "        [8.88017290e+252, 4.55072007e+198, 6.01334434e-154,\n",
       "         9.82157873e+252, 3.74168445e+233, 3.10573437e-115],\n",
       "        [1.91570149e+227, 4.67353097e+257, 5.98147388e-154,\n",
       "         2.43566010e-154, 8.56486050e+183, 7.26596850e+223],\n",
       "        [2.88966380e+227, 2.44514187e-154, 6.01347002e-154,\n",
       "         7.83037647e-190, 4.45831704e-281, 1.46481819e-299],\n",
       "        [6.01347002e-154, 1.55882246e-152, 6.01346953e-154,\n",
       "         6.01347002e-154, 8.54517574e+194, 1.69201539e+190],\n",
       "        [5.73593290e+194, 1.44420337e+214, 5.98157061e-154,\n",
       "         6.01347002e-154, 1.49915574e-152, 6.01346953e-154]]])"
      ]
     },
     "execution_count": 11,
     "metadata": {},
     "output_type": "execute_result"
    }
   ],
   "source": [
    "test2 = instance.forward(test)\n",
    "test2"
   ]
  },
  {
   "cell_type": "code",
   "execution_count": 12,
   "metadata": {},
   "outputs": [
    {
     "data": {
      "text/plain": [
       "array([[[5.82210000e+004, 4.53498493e+176, 4.47336290e+181,\n",
       "         3.18102790e+247, 6.71550335e+247, 1.06034263e+248,\n",
       "         1.06034263e+248, 1.06034263e+248],\n",
       "        [7.99216621e+253, 1.68723391e+254, 2.66405293e+254,\n",
       "         3.54799544e+254, 4.53015377e+254, 5.61052793e+254,\n",
       "         5.61052793e+254, 5.61052793e+254],\n",
       "        [6.67614868e+254, 7.83057115e+254, 9.07379536e+254,\n",
       "         1.02523848e+255, 1.15291900e+255, 1.29042111e+255,\n",
       "         1.29042111e+255, 1.29042111e+255],\n",
       "        [1.29042111e+255, 1.29042111e+255, 1.29042111e+255,\n",
       "         1.29042111e+255, 1.29042111e+255, 1.29042111e+255,\n",
       "         1.29042111e+255, 1.29042111e+255],\n",
       "        [1.29042111e+255, 1.29042111e+255, 1.29042111e+255,\n",
       "         1.29042111e+255, 1.29042111e+255, 1.29042111e+255,\n",
       "         1.29042111e+255, 1.29042111e+255],\n",
       "        [1.29042111e+255, 1.29042111e+255, 1.29042111e+255,\n",
       "         1.29042111e+255, 1.29042111e+255, 1.29042111e+255,\n",
       "         1.29042111e+255, 1.29042111e+255],\n",
       "        [1.29042111e+255, 1.29042111e+255, 1.29042111e+255,\n",
       "         1.29042111e+255, 1.29042111e+255, 1.29042111e+255,\n",
       "         1.29042111e+255, 1.29042111e+255],\n",
       "        [1.29042111e+255, 1.29042111e+255, 1.29042111e+255,\n",
       "         1.29042111e+255, 1.29042111e+255, 1.29042111e+255,\n",
       "         1.29042111e+255, 1.29042111e+255]]])"
      ]
     },
     "execution_count": 12,
     "metadata": {},
     "output_type": "execute_result"
    }
   ],
   "source": [
    "instance.backward(test2)"
   ]
  },
  {
   "cell_type": "markdown",
   "metadata": {},
   "source": [
    "# Max Pooling"
   ]
  },
  {
   "cell_type": "code",
   "execution_count": 13,
   "metadata": {},
   "outputs": [],
   "source": [
    "class MaxPool2D:\n",
    "    def __init__(self, FH, FW, padding=0, stride=None):\n",
    "        self.FH = FH # フィルタの高さ\n",
    "        self.FW = FW # フィルタの幅\n",
    "        self.P = padding # パディング数\n",
    "        \n",
    "        if (stride is None):\n",
    "            self.S = FW # スライド数\n",
    "        else:\n",
    "            self.S = stride\n",
    "        self.forward_index = None\n",
    "    \n",
    "    def forward(self, X):\n",
    "          \n",
    "        # 各パラメータを設定\n",
    "        # 入力データの次元数を取得\n",
    "        n_channel, n_high, n_wide = X.shape\n",
    "        \n",
    "        self.forward_index = np.zeros(X.shape)\n",
    "        \n",
    "        # パディング対応\n",
    "        X = np.pad(X, ((0,0), (self.P,self.P), (self.P,self.P)), 'constant')\n",
    "        \n",
    "        indexs = np.arange(n_wide)\n",
    "        out_c = n_channel\n",
    "        out_h = np.trunc( (n_high + 2*self.P - self.FH)/self.S +1 ).astype(np.int)\n",
    "        out_w = np.trunc( (n_wide + 2*self.P - self.FW)/self.S +1 ).astype(np.int)\n",
    "\n",
    "        output = np.empty((out_c, out_h, out_w))\n",
    "        \n",
    "        for FN in range(out_c):\n",
    "            # 高さ×幅分回す\n",
    "            j = 0\n",
    "            for high in range(0, n_high, self.S):\n",
    "                i = 0\n",
    "                for wide in range(0, n_wide, self.S):\n",
    "                    # 幅方向のインデックスを取得\n",
    "                    index = indexs[wide:wide+self.FW]\n",
    "                    # 高さ方向にインデックスをブロードキャスト\n",
    "                    # 最大値のインデックスを取得\n",
    "                    max_index = np.argmax( X[FN,high:high+self.FH, index] )\n",
    "                    max_index = np.unravel_index(max_index, (self.FH, self.FW))\n",
    "                    self.forward_index[FN, max_index[0]+high, max_index[1]+wide] = 1\n",
    "                    \n",
    "                    output[FN, j, i] = np.max( X[FN,high:high+self.FH, index] )\n",
    "                    \n",
    "                    i += 1\n",
    "                    # 次の幅方向にスライドできるかチェック\n",
    "                    if((wide + self.FW + self.S -1) >= n_wide):\n",
    "                        break\n",
    "                j += 1\n",
    "                # 次の高さ方向にスライドできるかチェック\n",
    "                if((high + self.FH + self.S -1) >= n_high):\n",
    "                    break\n",
    "        \n",
    "        return output\n",
    "    \n",
    "    def backward(self, delta):\n",
    "        \n",
    "        n_channel, n_high, n_wide = delta.shape\n",
    "        filte = np.ones((n_channel,self.FH, self.FW))\n",
    "        \n",
    "        result_high = []\n",
    "        for high in range(n_high):\n",
    "            result_wide = []\n",
    "            for wide in range(n_wide):\n",
    "                result_wide.append( filte*delta[:,high,wide] )\n",
    "            result_high.append( np.hstack(result_wide) )\n",
    "        result_Filter = np.vstack(result_high).T\n",
    "        \n",
    "        return result_Filter*self.forward_index"
   ]
  },
  {
   "cell_type": "markdown",
   "metadata": {},
   "source": [
    "# 実行結果"
   ]
  },
  {
   "cell_type": "code",
   "execution_count": 14,
   "metadata": {},
   "outputs": [
    {
     "data": {
      "text/plain": [
       "array([[[  0.,   1.,   2.,   3.,   4.,   5.,   6.,   7.],\n",
       "        [  8.,   9.,  10.,  11.,  12.,  13.,  14.,  15.],\n",
       "        [ 16.,  17.,  18.,  19.,  20.,  21.,  22.,  23.],\n",
       "        [ 24.,  25.,  26.,  27.,  28.,  29.,  30.,  31.],\n",
       "        [ 32.,  33.,  34.,  35.,  36.,  37.,  38.,  39.],\n",
       "        [ 40.,  41.,  42.,  43.,  44.,  45.,  46.,  47.],\n",
       "        [ 48.,  49.,  50.,  51.,  52.,  53.,  54.,  55.],\n",
       "        [ 56.,  57.,  58.,  59.,  60.,  61.,  62.,  63.]],\n",
       "\n",
       "       [[ 64.,  65.,  66.,  67.,  68.,  69.,  70.,  71.],\n",
       "        [ 72.,  73.,  74.,  75.,  76.,  77.,  78.,  79.],\n",
       "        [ 80.,  81.,  82.,  83.,  84.,  85.,  86.,  87.],\n",
       "        [ 88.,  89.,  90.,  91.,  92.,  93.,  94.,  95.],\n",
       "        [ 96.,  97.,  98.,  99., 100., 101., 102., 103.],\n",
       "        [104., 105., 106., 107., 108., 109., 110., 111.],\n",
       "        [112., 113., 114., 115., 116., 117., 118., 119.],\n",
       "        [120., 121., 122., 123., 124., 125., 126., 127.]]])"
      ]
     },
     "execution_count": 14,
     "metadata": {},
     "output_type": "execute_result"
    }
   ],
   "source": [
    "Maxpool = np.arange(2*8*8).reshape(2,8,8).astype(np.float)\n",
    "Maxpool"
   ]
  },
  {
   "cell_type": "code",
   "execution_count": 54,
   "metadata": {},
   "outputs": [
    {
     "data": {
      "text/plain": [
       "array([[[  9.,  11.,  13.,  15.],\n",
       "        [ 25.,  27.,  29.,  31.],\n",
       "        [ 41.,  43.,  45.,  47.],\n",
       "        [ 57.,  59.,  61.,  63.]],\n",
       "\n",
       "       [[ 73.,  75.,  77.,  79.],\n",
       "        [ 89.,  91.,  93.,  95.],\n",
       "        [105., 107., 109., 111.],\n",
       "        [121., 123., 125., 127.]]])"
      ]
     },
     "execution_count": 54,
     "metadata": {},
     "output_type": "execute_result"
    }
   ],
   "source": [
    "instance = MaxPool2D(2,2)\n",
    "Maxpool_result = instance.forward(Maxpool)\n",
    "Maxpool_result"
   ]
  },
  {
   "cell_type": "code",
   "execution_count": 55,
   "metadata": {},
   "outputs": [
    {
     "data": {
      "text/plain": [
       "array([[[  0.,   0.,   0.,   0.,   0.,   0.,   0.,   0.],\n",
       "        [  0.,   9.,   0.,  25.,   0.,  41.,   0.,  57.],\n",
       "        [  0.,   0.,   0.,   0.,   0.,   0.,   0.,   0.],\n",
       "        [  0.,  11.,   0.,  27.,   0.,  43.,   0.,  59.],\n",
       "        [  0.,   0.,   0.,   0.,   0.,   0.,   0.,   0.],\n",
       "        [  0.,  13.,   0.,  29.,   0.,  45.,   0.,  61.],\n",
       "        [  0.,   0.,   0.,   0.,   0.,   0.,   0.,   0.],\n",
       "        [  0.,  15.,   0.,  31.,   0.,  47.,   0.,  63.]],\n",
       "\n",
       "       [[  0.,   0.,   0.,   0.,   0.,   0.,   0.,   0.],\n",
       "        [  0.,  73.,   0.,  89.,   0., 105.,   0., 121.],\n",
       "        [  0.,   0.,   0.,   0.,   0.,   0.,   0.,   0.],\n",
       "        [  0.,  75.,   0.,  91.,   0., 107.,   0., 123.],\n",
       "        [  0.,   0.,   0.,   0.,   0.,   0.,   0.,   0.],\n",
       "        [  0.,  77.,   0.,  93.,   0., 109.,   0., 125.],\n",
       "        [  0.,   0.,   0.,   0.,   0.,   0.,   0.,   0.],\n",
       "        [  0.,  79.,   0.,  95.,   0., 111.,   0., 127.]]])"
      ]
     },
     "execution_count": 55,
     "metadata": {},
     "output_type": "execute_result"
    }
   ],
   "source": [
    "instance.backward(Maxpool_result)"
   ]
  },
  {
   "cell_type": "markdown",
   "metadata": {},
   "source": [
    "# 説明文\n",
    "## Convolution層\n",
    "畳み込み層とプーリング層では下図のように入力のニューロンの一部の領域を絞って、局所的に次の層へと対応付けをしていく。各層はフィルタと呼ばれる検出器をいくつも持っているイメージになる。\n",
    "![](https://deepage.net/img/convolutional_neural_network/conv.jpg)\n",
    "画像認識の例でいうと、最初の層でエッジを検出して、次の層でテクスチャを検出し、さらに次のそうではより抽象的な猫の耳などの特徴を検出する。CNNはこういった特徴を抽出するための検出器であるフィルタのパラメータを自動で学習していく。<br>\n",
    "    Convolution層は空間的な情報を維持することができる。widthとheightとdepthの3次元を入力値として3次元を出力する例を考えてみる。\n",
    "![](https://deepage.net/img/convolutional_neural_network/conv_volume.jpg)\n",
    "$Convolution$層では、各フィルターごとに畳み込み演算された結果が出力される。$RGB$チャンネルの入力画像の場合、フィルタも$3$次元となり$3×3×3$のフィルタであれば、合計で$27$個の重みフィルタとなる。上図のように、フィルタごとに畳み込み演算した出力が次の層の$1$つのユニットとなる。そして出力はフィルターの数の深さを持つことになる。<br>\n",
    "\n",
    "Fully Connected層と同様に、フィルタごとに内積を計算しバイアスを足して活性化関数を適用する。重みフィルタのパラメータが$w_{1}...w_{27}$で対象の局所領域が$x_{1}...x_{27}$\n",
    "で対象の局所領域が だった場合、出力のユニット は$y$は\n",
    "$$y=relu(\\sum_{i=1}^{27}w_{i}x_{i}+b)$$\n",
    "となる。$relu()$はReLU(Rectified Linear Unit)のことで、$max(0, x)$のような実装をする。Convolution層ではこの活性化関数を使うことが多い。"
   ]
  },
  {
   "cell_type": "markdown",
   "metadata": {},
   "source": [
    "## Pooling層\n",
    "Pooling層はたいてい、Convolutoin層の後に適用される。入力データをより扱いやすい形に変形するために、情報を圧縮し、down samplingする。<br>\n",
    "\n",
    "max poolingと呼ばれる手法では、操作は以下のように小領域に対して、最大のものを選択する操作となる。\n",
    "![](https://deepage.net/img/convolutional_neural_network/max_pooling.jpg)\n",
    "このように情報を圧縮することで\n",
    "\n",
    "- 微小な位置変化に対して頑健となる\n",
    "- ある程度過学習を抑制する\n",
    "- 計算コストを下げる\n",
    "\n",
    "といった効果があり、Convolution層とPooling層で特徴を検出する働きをする。"
   ]
  },
  {
   "cell_type": "markdown",
   "metadata": {},
   "source": [
    "# CNNは全結合層のみのニューラルネットワークとどのように違うか\n"
   ]
  },
  {
   "cell_type": "markdown",
   "metadata": {},
   "source": [
    "CNNでは、隠れ層は「畳み込み層」と「プーリング層」で構成されている。畳み込み層は、前の層で近くにあるノードにフィルタ処理して「特徴マップ」を得る。プーリング層は、畳込み層から出力された特徴マップを、さらに縮小して新たな特徴マップとする。この際に着目する領域のどの値を用いるかは、最大値を得ることで、画像の多少のずれも吸収される。したがって、この処理により画像の位置移動に対する普遍性を獲得したことになる。<br>\n",
    "\n",
    "畳み込み層は画像の局所的な特徴を抽出し、プーリング層は局所的な特徴をまとめあげる処理をしている。つまり、これらの処理の意味するところは、入力画像の特徴を維持しながら画像を縮小処理していることにななる。今までの画像縮小処理と異なるところは、画像の特徴を維持しながら画像の持つ情報量を大幅に圧縮できるところである。これを言い換えると、画像の「抽象化」とも言える。これは画期的なことである。ネットワークに記憶された、この抽象化された画像イメージを用いて、入力される画像を認識、つまり画像の分類をすることができるのである。"
   ]
  },
  {
   "cell_type": "markdown",
   "metadata": {},
   "source": [
    "## 出力サイズとパラメータ数の計算"
   ]
  },
  {
   "cell_type": "markdown",
   "metadata": {},
   "source": [
    "1.\n",
    "\n",
    "- 入力サイズ : 144×144, 3チャンネル\n",
    "- フィルタサイズ : 3×3, 6チャンネル\n",
    "- ストライド : 1\n",
    "- パディング : なし"
   ]
  },
  {
   "cell_type": "markdown",
   "metadata": {},
   "source": [
    "$N_{h,out} =  \\frac{N_{h,in}+2P_{h}-F_{h}}{S_{h}} + 1\\\\\n",
    "N_{h,out} =  \\frac{144+2×0-3}{1} + 1\\\\\n",
    "N_{h,out} =  142\\\\\n",
    "N_{w,out} =  \\frac{N_{w,in}+2P_{w}-F_{w}}{S_{w}} + 1\n",
    "N_{w,out} =  \\frac{144+2×0-3}{1} + 1\\\\\n",
    "N_{w,out} =  142$\n",
    "\n",
    "出力サイズ：142×142、6チャンネル<br>\n",
    "パラメータ：\n",
    "- フィルタ 3×3×6=54\n",
    "- ストライド: 1\n",
    "- パディング: 0\n",
    "- 計：55"
   ]
  },
  {
   "cell_type": "markdown",
   "metadata": {},
   "source": [
    "2.\n",
    "\n",
    "- 入力サイズ : 60×60, 24チャンネル\n",
    "-    フィルタサイズ : 3×3, 48チャンネル\n",
    "-    ストライド　: 1\n",
    "-    パディング : なし\n",
    "\n",
    "$N_{h,out} =  \\frac{N_{h,in}+2P_{h}-F_{h}}{S_{h}} + 1\\\\\n",
    "N_{h,out} =  \\frac{60+2×0-3}{1} + 1\\\\\n",
    "N_{h,out} =  58\\\\\n",
    "N_{w,out} =  \\frac{N_{w,in}+2P_{w}-F_{w}}{S_{w}} + 1\n",
    "N_{w,out} =  \\frac{60+2×0-3}{1} + 1\\\\\n",
    "N_{w,out} =  58$\n",
    "\n",
    "出力サイズ：58×58、48チャンネル<br>\n",
    "パラメータ：\n",
    "- フィルタ 3×3×48=432\n",
    "- ストライド: 1\n",
    "- パディング: 0\n",
    "- 計：433"
   ]
  },
  {
   "cell_type": "markdown",
   "metadata": {},
   "source": [
    "3.\n",
    "\n",
    "- 入力サイズ : 20×20, 10チャンネル\n",
    "-    フィルタサイズ : 3×3, 20チャンネル\n",
    "-    ストライド　: 2\n",
    "-    パディング : なし\n",
    "\n",
    "$N_{h,out} =  \\frac{N_{h,in}+2P_{h}-F_{h}}{S_{h}} + 1\\\\\n",
    "N_{h,out} =  \\frac{20+2×0-3}{2} + 1\\\\\n",
    "N_{h,out} =  9\\\\\n",
    "N_{w,out} =  \\frac{N_{w,in}+2P_{w}-F_{w}}{S_{w}} + 1\n",
    "N_{w,out} =  \\frac{20+2×0-3}{2} + 1\\\\\n",
    "N_{w,out} =  9$\n",
    "\n",
    "出力サイズ：58×58、48チャンネル<br>\n",
    "パラメータ：\n",
    "- フィルタ 3×3×20=180\n",
    "- ストライド: 1\n",
    "- パディング: 0\n",
    "- 計：181"
   ]
  },
  {
   "cell_type": "markdown",
   "metadata": {},
   "source": [
    "## フィルタサイズ"
   ]
  },
  {
   "cell_type": "code",
   "execution_count": null,
   "metadata": {},
   "outputs": [],
   "source": []
  }
 ],
 "metadata": {
  "kernelspec": {
   "display_name": "Python 3",
   "language": "python",
   "name": "python3"
  },
  "language_info": {
   "codemirror_mode": {
    "name": "ipython",
    "version": 3
   },
   "file_extension": ".py",
   "mimetype": "text/x-python",
   "name": "python",
   "nbconvert_exporter": "python",
   "pygments_lexer": "ipython3",
   "version": "3.6.6"
  },
  "toc": {
   "base_numbering": 1,
   "nav_menu": {},
   "number_sections": false,
   "sideBar": true,
   "skip_h1_title": false,
   "title_cell": "Table of Contents",
   "title_sidebar": "Contents",
   "toc_cell": false,
   "toc_position": {},
   "toc_section_display": true,
   "toc_window_display": false
  }
 },
 "nbformat": 4,
 "nbformat_minor": 2
}
