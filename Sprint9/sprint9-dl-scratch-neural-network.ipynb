{
 "cells": [
  {
   "cell_type": "markdown",
   "metadata": {},
   "source": [
    "# Sprint9"
   ]
  },
  {
   "cell_type": "code",
   "execution_count": 1,
   "metadata": {},
   "outputs": [],
   "source": [
    "import numpy as np\n",
    "import pandas as pd\n",
    "\n",
    "# ログ表示\n",
    "class Log:\n",
    "    # 表示ログレベル\n",
    "    Loglevel = 0\n",
    "    def logLevelset(level):\n",
    "        # 表示ログレベルの設定\n",
    "        Log.Loglevel = level\n",
    "    def log_print(level, std, *variable):\n",
    "        if(Log.Loglevel >= level):\n",
    "            if(len(variable) == 0):\n",
    "                print(std)\n",
    "            else:\n",
    "                for i in range(len(variable)):\n",
    "                    index = std.find(\"}\") + 1\n",
    "                    # 改行なし表示\n",
    "                    print(std[:index].format(variable[i]), end='')\n",
    "                    # 表示した分を削除\n",
    "                    std = std.replace(std[:index], \"\", 1)\n",
    "                # 改行表示\n",
    "                print(std)"
   ]
  },
  {
   "cell_type": "markdown",
   "metadata": {},
   "source": [
    "# 1. データセットの用意"
   ]
  },
  {
   "cell_type": "code",
   "execution_count": 2,
   "metadata": {},
   "outputs": [
    {
     "name": "stderr",
     "output_type": "stream",
     "text": [
      "/home/hiro/anaconda3/lib/python3.6/site-packages/sklearn/utils/deprecation.py:77: DeprecationWarning: Function fetch_mldata is deprecated; fetch_mldata was deprecated in version 0.20 and will be removed in version 0.22\n",
      "  warnings.warn(msg, category=DeprecationWarning)\n",
      "/home/hiro/anaconda3/lib/python3.6/site-packages/sklearn/utils/deprecation.py:77: DeprecationWarning: Function mldata_filename is deprecated; mldata_filename was deprecated in version 0.20 and will be removed in version 0.22\n",
      "  warnings.warn(msg, category=DeprecationWarning)\n"
     ]
    }
   ],
   "source": [
    "from sklearn.datasets import fetch_mldata\n",
    "from sklearn.model_selection import train_test_split\n",
    "\n",
    "# 保存先を指定\n",
    "mnist_dir = \"./mnist_data/\"\n",
    "\n",
    "# MNISTの読み込み\n",
    "mnist = fetch_mldata('MNIST original', data_home=mnist_dir)\n",
    "# trainとtestに分割する\n",
    "X_train, X_test, y_train, y_test = train_test_split(mnist.data, mnist.target, test_size=0.14285, shuffle=False)\n",
    "# ラベルをint型にしておく\n",
    "y_train = y_train.astype(np.int)\n",
    "y_test = y_test.astype(np.int)"
   ]
  },
  {
   "cell_type": "markdown",
   "metadata": {},
   "source": [
    "# データセットの確認"
   ]
  },
  {
   "cell_type": "code",
   "execution_count": 3,
   "metadata": {},
   "outputs": [
    {
     "name": "stdout",
     "output_type": "stream",
     "text": [
      "(60000, 784)\n",
      "(10000, 784)\n",
      "uint8\n",
      "[  0   0   0   0   0   0   0   0   0   0   0   0   0   0   0   0   0   0\n",
      "   0   0   0   0   0   0   0   0   0   0   0   0   0   0   0   0   0   0\n",
      "   0   0   0   0   0   0   0   0   0   0   0   0   0   0   0   0   0   0\n",
      "   0   0   0   0   0   0   0   0   0   0   0   0   0   0   0   0   0   0\n",
      "   0   0   0   0   0   0   0   0   0   0   0   0   0   0   0   0   0   0\n",
      "   0   0   0   0   0   0   0   0   0   0   0   0   0   0   0   0   0   0\n",
      "   0   0   0   0   0   0   0   0   0   0   0   0   0   0   0   0   0   0\n",
      "   0  51 159 253 159  50   0   0   0   0   0   0   0   0   0   0   0   0\n",
      "   0   0   0   0   0   0   0   0   0   0  48 238 252 252 252 237   0   0\n",
      "   0   0   0   0   0   0   0   0   0   0   0   0   0   0   0   0   0   0\n",
      "   0  54 227 253 252 239 233 252  57   6   0   0   0   0   0   0   0   0\n",
      "   0   0   0   0   0   0   0   0   0  10  60 224 252 253 252 202  84 252\n",
      " 253 122   0   0   0   0   0   0   0   0   0   0   0   0   0   0   0   0\n",
      "   0 163 252 252 252 253 252 252  96 189 253 167   0   0   0   0   0   0\n",
      "   0   0   0   0   0   0   0   0   0   0  51 238 253 253 190 114 253 228\n",
      "  47  79 255 168   0   0   0   0   0   0   0   0   0   0   0   0   0   0\n",
      "   0  48 238 252 252 179  12  75 121  21   0   0 253 243  50   0   0   0\n",
      "   0   0   0   0   0   0   0   0   0   0  38 165 253 233 208  84   0   0\n",
      "   0   0   0   0 253 252 165   0   0   0   0   0   0   0   0   0   0   0\n",
      "   0   7 178 252 240  71  19  28   0   0   0   0   0   0 253 252 195   0\n",
      "   0   0   0   0   0   0   0   0   0   0   0  57 252 252  63   0   0   0\n",
      "   0   0   0   0   0   0 253 252 195   0   0   0   0   0   0   0   0   0\n",
      "   0   0   0 198 253 190   0   0   0   0   0   0   0   0   0   0 255 253\n",
      " 196   0   0   0   0   0   0   0   0   0   0   0  76 246 252 112   0   0\n",
      "   0   0   0   0   0   0   0   0 253 252 148   0   0   0   0   0   0   0\n",
      "   0   0   0   0  85 252 230  25   0   0   0   0   0   0   0   0   7 135\n",
      " 253 186  12   0   0   0   0   0   0   0   0   0   0   0  85 252 223   0\n",
      "   0   0   0   0   0   0   0   7 131 252 225  71   0   0   0   0   0   0\n",
      "   0   0   0   0   0   0  85 252 145   0   0   0   0   0   0   0  48 165\n",
      " 252 173   0   0   0   0   0   0   0   0   0   0   0   0   0   0  86 253\n",
      " 225   0   0   0   0   0   0 114 238 253 162   0   0   0   0   0   0   0\n",
      "   0   0   0   0   0   0   0   0  85 252 249 146  48  29  85 178 225 253\n",
      " 223 167  56   0   0   0   0   0   0   0   0   0   0   0   0   0   0   0\n",
      "  85 252 252 252 229 215 252 252 252 196 130   0   0   0   0   0   0   0\n",
      "   0   0   0   0   0   0   0   0   0   0  28 199 252 252 253 252 252 233\n",
      " 145   0   0   0   0   0   0   0   0   0   0   0   0   0   0   0   0   0\n",
      "   0   0   0  25 128 252 253 252 141  37   0   0   0   0   0   0   0   0\n",
      "   0   0   0   0   0   0   0   0   0   0   0   0   0   0   0   0   0   0\n",
      "   0   0   0   0   0   0   0   0   0   0   0   0   0   0   0   0   0   0\n",
      "   0   0   0   0   0   0   0   0   0   0   0   0   0   0   0   0   0   0\n",
      "   0   0   0   0   0   0   0   0   0   0   0   0   0   0   0   0   0   0\n",
      "   0   0   0   0   0   0   0   0   0   0   0   0   0   0   0   0   0   0\n",
      "   0   0   0   0   0   0   0   0   0   0   0   0   0   0   0   0   0   0\n",
      "   0   0   0   0   0   0   0   0   0   0]\n"
     ]
    }
   ],
   "source": [
    "print(X_train.shape) # (60000, 784)\n",
    "print(X_test.shape) # (10000, 784)\n",
    "print(X_train[0].dtype) # uint8\n",
    "print(X_train[0])"
   ]
  },
  {
   "cell_type": "markdown",
   "metadata": {},
   "source": [
    "# 画像データの可視化"
   ]
  },
  {
   "cell_type": "code",
   "execution_count": 4,
   "metadata": {},
   "outputs": [
    {
     "data": {
      "image/png": "[encoded data removed]",
      "text/plain": [
       "<Figure size 432x288 with 1 Axes>"
      ]
     },
     "metadata": {
      "needs_background": "light"
     },
     "output_type": "display_data"
    }
   ],
   "source": [
    "import matplotlib.pyplot as plt\n",
    "%matplotlib inline\n",
    "index = 0\n",
    "image = X_train[index].reshape(28,28)\n",
    "# X_train[index]: (784,)\n",
    "# image: (28, 28)\n",
    "plt.imshow(image, 'gray')\n",
    "plt.title('label : {}'.format(y_train[index]))\n",
    "plt.show()"
   ]
  },
  {
   "cell_type": "code",
   "execution_count": 5,
   "metadata": {},
   "outputs": [
    {
     "data": {
      "image/png": "[encoded data removed]",
      "text/plain": [
       "<Figure size 432x288 with 1 Axes>"
      ]
     },
     "metadata": {
      "needs_background": "light"
     },
     "output_type": "display_data"
    },
    {
     "name": "stdout",
     "output_type": "stream",
     "text": [
      "[[-105.35 -105.35 -105.35 -105.35 -105.35 -105.35 -105.35 -105.35 -105.35\n",
      "  -105.35 -105.35 -105.35 -105.35 -105.35 -105.35 -105.35 -105.35 -105.35\n",
      "  -105.35 -105.35 -105.35 -105.35 -105.35 -105.35 -105.35 -105.35 -105.35\n",
      "  -105.35]\n",
      " [-105.35 -105.35 -105.35 -105.35 -105.35 -105.35 -105.35 -105.35 -105.35\n",
      "  -105.35 -105.35 -105.35 -105.35 -105.35 -105.35 -105.35 -105.35 -105.35\n",
      "  -105.35 -105.35 -105.35 -105.35 -105.35 -105.35 -105.35 -105.35 -105.35\n",
      "  -105.35]\n",
      " [-105.35 -105.35 -105.35 -105.35 -105.35 -105.35 -105.35 -105.35 -105.35\n",
      "  -105.35 -105.35 -105.35 -105.35 -105.35 -105.35 -105.35 -105.35 -105.35\n",
      "  -105.35 -105.35 -105.35 -105.35 -105.35 -105.35 -105.35 -105.35 -105.35\n",
      "  -105.35]\n",
      " [-105.35 -105.35 -105.35 -105.35 -105.35 -105.35 -105.35 -105.35 -105.35\n",
      "  -105.35 -105.35 -105.35 -105.35 -105.35 -105.35 -105.35 -105.35 -105.35\n",
      "  -105.35 -105.35 -105.35 -105.35 -105.35 -105.35 -105.35 -105.35 -105.35\n",
      "  -105.35]\n",
      " [-105.35 -105.35 -105.35 -105.35 -105.35 -105.35 -105.35 -105.35 -105.35\n",
      "  -105.35 -105.35 -105.35 -105.35 -105.35 -105.35  -54.35   53.65  147.65\n",
      "    53.65  -55.35 -105.35 -105.35 -105.35 -105.35 -105.35 -105.35 -105.35\n",
      "  -105.35]\n",
      " [-105.35 -105.35 -105.35 -105.35 -105.35 -105.35 -105.35 -105.35 -105.35\n",
      "  -105.35 -105.35 -105.35 -105.35 -105.35  -57.35  132.65  146.65  146.65\n",
      "   146.65  131.65 -105.35 -105.35 -105.35 -105.35 -105.35 -105.35 -105.35\n",
      "  -105.35]\n",
      " [-105.35 -105.35 -105.35 -105.35 -105.35 -105.35 -105.35 -105.35 -105.35\n",
      "  -105.35 -105.35 -105.35 -105.35  -51.35  121.65  147.65  146.65  133.65\n",
      "   127.65  146.65  -48.35  -99.35 -105.35 -105.35 -105.35 -105.35 -105.35\n",
      "  -105.35]\n",
      " [-105.35 -105.35 -105.35 -105.35 -105.35 -105.35 -105.35 -105.35 -105.35\n",
      "  -105.35 -105.35  -95.35  -45.35  118.65  146.65  147.65  146.65   96.65\n",
      "   -21.35  146.65  147.65   16.65 -105.35 -105.35 -105.35 -105.35 -105.35\n",
      "  -105.35]\n",
      " [-105.35 -105.35 -105.35 -105.35 -105.35 -105.35 -105.35 -105.35 -105.35\n",
      "  -105.35 -105.35   57.65  146.65  146.65  146.65  147.65  146.65  146.65\n",
      "    -9.35   83.65  147.65   61.65 -105.35 -105.35 -105.35 -105.35 -105.35\n",
      "  -105.35]\n",
      " [-105.35 -105.35 -105.35 -105.35 -105.35 -105.35 -105.35 -105.35 -105.35\n",
      "  -105.35  -54.35  132.65  147.65  147.65   84.65    8.65  147.65  122.65\n",
      "   -58.35  -26.35  149.65   62.65 -105.35 -105.35 -105.35 -105.35 -105.35\n",
      "  -105.35]\n",
      " [-105.35 -105.35 -105.35 -105.35 -105.35 -105.35 -105.35 -105.35 -105.35\n",
      "   -57.35  132.65  146.65  146.65   73.65  -93.35  -30.35   15.65  -84.35\n",
      "  -105.35 -105.35  147.65  137.65  -55.35 -105.35 -105.35 -105.35 -105.35\n",
      "  -105.35]\n",
      " [-105.35 -105.35 -105.35 -105.35 -105.35 -105.35 -105.35 -105.35  -67.35\n",
      "    59.65  147.65  127.65  102.65  -21.35 -105.35 -105.35 -105.35 -105.35\n",
      "  -105.35 -105.35  147.65  146.65   59.65 -105.35 -105.35 -105.35 -105.35\n",
      "  -105.35]\n",
      " [-105.35 -105.35 -105.35 -105.35 -105.35 -105.35 -105.35  -98.35   72.65\n",
      "   146.65  134.65  -34.35  -86.35  -77.35 -105.35 -105.35 -105.35 -105.35\n",
      "  -105.35 -105.35  147.65  146.65   89.65 -105.35 -105.35 -105.35 -105.35\n",
      "  -105.35]\n",
      " [-105.35 -105.35 -105.35 -105.35 -105.35 -105.35 -105.35  -48.35  146.65\n",
      "   146.65  -42.35 -105.35 -105.35 -105.35 -105.35 -105.35 -105.35 -105.35\n",
      "  -105.35 -105.35  147.65  146.65   89.65 -105.35 -105.35 -105.35 -105.35\n",
      "  -105.35]\n",
      " [-105.35 -105.35 -105.35 -105.35 -105.35 -105.35 -105.35   92.65  147.65\n",
      "    84.65 -105.35 -105.35 -105.35 -105.35 -105.35 -105.35 -105.35 -105.35\n",
      "  -105.35 -105.35  149.65  147.65   90.65 -105.35 -105.35 -105.35 -105.35\n",
      "  -105.35]\n",
      " [-105.35 -105.35 -105.35 -105.35 -105.35 -105.35  -29.35  140.65  146.65\n",
      "     6.65 -105.35 -105.35 -105.35 -105.35 -105.35 -105.35 -105.35 -105.35\n",
      "  -105.35 -105.35  147.65  146.65   42.65 -105.35 -105.35 -105.35 -105.35\n",
      "  -105.35]\n",
      " [-105.35 -105.35 -105.35 -105.35 -105.35 -105.35  -20.35  146.65  124.65\n",
      "   -80.35 -105.35 -105.35 -105.35 -105.35 -105.35 -105.35 -105.35 -105.35\n",
      "   -98.35   29.65  147.65   80.65  -93.35 -105.35 -105.35 -105.35 -105.35\n",
      "  -105.35]\n",
      " [-105.35 -105.35 -105.35 -105.35 -105.35 -105.35  -20.35  146.65  117.65\n",
      "  -105.35 -105.35 -105.35 -105.35 -105.35 -105.35 -105.35 -105.35  -98.35\n",
      "    25.65  146.65  119.65  -34.35 -105.35 -105.35 -105.35 -105.35 -105.35\n",
      "  -105.35]\n",
      " [-105.35 -105.35 -105.35 -105.35 -105.35 -105.35  -20.35  146.65   39.65\n",
      "  -105.35 -105.35 -105.35 -105.35 -105.35 -105.35 -105.35  -57.35   59.65\n",
      "   146.65   67.65 -105.35 -105.35 -105.35 -105.35 -105.35 -105.35 -105.35\n",
      "  -105.35]\n",
      " [-105.35 -105.35 -105.35 -105.35 -105.35 -105.35  -19.35  147.65  119.65\n",
      "  -105.35 -105.35 -105.35 -105.35 -105.35 -105.35    8.65  132.65  147.65\n",
      "    56.65 -105.35 -105.35 -105.35 -105.35 -105.35 -105.35 -105.35 -105.35\n",
      "  -105.35]\n",
      " [-105.35 -105.35 -105.35 -105.35 -105.35 -105.35  -20.35  146.65  143.65\n",
      "    40.65  -57.35  -76.35  -20.35   72.65  119.65  147.65  117.65   61.65\n",
      "   -49.35 -105.35 -105.35 -105.35 -105.35 -105.35 -105.35 -105.35 -105.35\n",
      "  -105.35]\n",
      " [-105.35 -105.35 -105.35 -105.35 -105.35 -105.35  -20.35  146.65  146.65\n",
      "   146.65  123.65  109.65  146.65  146.65  146.65   90.65   24.65 -105.35\n",
      "  -105.35 -105.35 -105.35 -105.35 -105.35 -105.35 -105.35 -105.35 -105.35\n",
      "  -105.35]\n",
      " [-105.35 -105.35 -105.35 -105.35 -105.35 -105.35  -77.35   93.65  146.65\n",
      "   146.65  147.65  146.65  146.65  127.65   39.65 -105.35 -105.35 -105.35\n",
      "  -105.35 -105.35 -105.35 -105.35 -105.35 -105.35 -105.35 -105.35 -105.35\n",
      "  -105.35]\n",
      " [-105.35 -105.35 -105.35 -105.35 -105.35 -105.35 -105.35  -80.35   22.65\n",
      "   146.65  147.65  146.65   35.65  -68.35 -105.35 -105.35 -105.35 -105.35\n",
      "  -105.35 -105.35 -105.35 -105.35 -105.35 -105.35 -105.35 -105.35 -105.35\n",
      "  -105.35]\n",
      " [-105.35 -105.35 -105.35 -105.35 -105.35 -105.35 -105.35 -105.35 -105.35\n",
      "  -105.35 -105.35 -105.35 -105.35 -105.35 -105.35 -105.35 -105.35 -105.35\n",
      "  -105.35 -105.35 -105.35 -105.35 -105.35 -105.35 -105.35 -105.35 -105.35\n",
      "  -105.35]\n",
      " [-105.35 -105.35 -105.35 -105.35 -105.35 -105.35 -105.35 -105.35 -105.35\n",
      "  -105.35 -105.35 -105.35 -105.35 -105.35 -105.35 -105.35 -105.35 -105.35\n",
      "  -105.35 -105.35 -105.35 -105.35 -105.35 -105.35 -105.35 -105.35 -105.35\n",
      "  -105.35]\n",
      " [-105.35 -105.35 -105.35 -105.35 -105.35 -105.35 -105.35 -105.35 -105.35\n",
      "  -105.35 -105.35 -105.35 -105.35 -105.35 -105.35 -105.35 -105.35 -105.35\n",
      "  -105.35 -105.35 -105.35 -105.35 -105.35 -105.35 -105.35 -105.35 -105.35\n",
      "  -105.35]\n",
      " [-105.35 -105.35 -105.35 -105.35 -105.35 -105.35 -105.35 -105.35 -105.35\n",
      "  -105.35 -105.35 -105.35 -105.35 -105.35 -105.35 -105.35 -105.35 -105.35\n",
      "  -105.35 -105.35 -105.35 -105.35 -105.35 -105.35 -105.35 -105.35 -105.35\n",
      "  -105.35]]\n"
     ]
    }
   ],
   "source": [
    "index = 0\n",
    "image = X_train[index].reshape(28,28)\n",
    "image = image.astype(np.float) # float型に変換\n",
    "image -= 105.35 # 意図的に負の小数値を作り出してみる\n",
    "plt.imshow(image, 'gray')\n",
    "plt.title('label : {}'.format(y_train[index]))\n",
    "plt.show()\n",
    "print(image) # 値を確認"
   ]
  },
  {
   "cell_type": "code",
   "execution_count": 6,
   "metadata": {},
   "outputs": [
    {
     "data": {
      "text/plain": [
       "<matplotlib.image.AxesImage at 0x7f21fed2b7b8>"
      ]
     },
     "execution_count": 6,
     "metadata": {},
     "output_type": "execute_result"
    },
    {
     "data": {
      "image/png": "[encoded data removed]",
      "text/plain": [
       "<Figure size 432x288 with 1 Axes>"
      ]
     },
     "metadata": {
      "needs_background": "light"
     },
     "output_type": "display_data"
    }
   ],
   "source": [
    "plt.imshow(image, 'gray', vmin = 0, vmax = 255)"
   ]
  },
  {
   "cell_type": "markdown",
   "metadata": {},
   "source": [
    "# 2.前処理"
   ]
  },
  {
   "cell_type": "code",
   "execution_count": 7,
   "metadata": {},
   "outputs": [
    {
     "name": "stdout",
     "output_type": "stream",
     "text": [
      "1.0\n",
      "0.0\n"
     ]
    }
   ],
   "source": [
    "X_train = X_train.astype(np.float)\n",
    "X_test = X_test.astype(np.float)\n",
    "X_train /= 255\n",
    "X_test /= 255\n",
    "print(X_train.max()) # 1.0\n",
    "print(X_train.min()) # 0.0"
   ]
  },
  {
   "cell_type": "code",
   "execution_count": 8,
   "metadata": {},
   "outputs": [
    {
     "name": "stdout",
     "output_type": "stream",
     "text": [
      "(60000,)\n",
      "(60000, 10)\n",
      "float64\n"
     ]
    }
   ],
   "source": [
    "from sklearn.preprocessing import OneHotEncoder\n",
    "enc = OneHotEncoder(handle_unknown='ignore', sparse=False)\n",
    "y_train_one_hot = enc.fit_transform(y_train[:, np.newaxis])\n",
    "y_test_one_hot = enc.transform(y_test[:, np.newaxis])\n",
    "print(y_train.shape) # (60000,)\n",
    "print(y_train_one_hot.shape) # (60000, 10)\n",
    "print(y_train_one_hot.dtype) # float64"
   ]
  },
  {
   "cell_type": "code",
   "execution_count": 9,
   "metadata": {},
   "outputs": [
    {
     "name": "stdout",
     "output_type": "stream",
     "text": [
      "(48000, 784)\n",
      "(12000, 784)\n"
     ]
    }
   ],
   "source": [
    "X_train, X_val, y_train, y_val = train_test_split(X_train, y_train, test_size=0.2)\n",
    "print(X_train.shape) # (48000, 784)\n",
    "print(X_val.shape) # (12000, 784)"
   ]
  },
  {
   "cell_type": "code",
   "execution_count": 10,
   "metadata": {},
   "outputs": [
    {
     "data": {
      "text/plain": [
       "0.001"
      ]
     },
     "execution_count": 10,
     "metadata": {},
     "output_type": "execute_result"
    }
   ],
   "source": [
    "1e-3"
   ]
  },
  {
   "cell_type": "markdown",
   "metadata": {},
   "source": [
    "# 3.スクラッチ"
   ]
  },
  {
   "cell_type": "code",
   "execution_count": 11,
   "metadata": {},
   "outputs": [],
   "source": [
    "class ScratchSimpleNeuralNetrowkClassifier():\n",
    "    \"\"\"\n",
    "    シンプルな三層ニューラルネットワーク分類器\n",
    "\n",
    "    Parameters\n",
    "    ----------\n",
    "\n",
    "    Attributes\n",
    "    ----------\n",
    "    \"\"\"\n",
    "\n",
    "    def __init__(self, verbose=True, num_epoch=30, batch_size=10, n_features=784, n_nodes1=400, n_nodes2=200, n_output=10,\n",
    "                 lr_W1=1e-4, lr_W2=1e-4, lr_W3=1e-4, lr_b1=1e-4, lr_b2=1e-4, lr_b3=1e-4, sigma=1e-4):\n",
    "        \n",
    "        self.verbose = verbose\n",
    "        self.num_epoch = num_epoch # epoch回数\n",
    "        self.batch_size = batch_size # バッチサイズ\n",
    "        self.n_features = n_features # 特徴量の数\n",
    "        self.n_nodes1 = n_nodes1 # 1層目のノード数\n",
    "        self.n_nodes2 = n_nodes2 # 2層目のノード数\n",
    "        self.n_output = n_output # 出力のクラス数（3層目のノード数）\n",
    "        \n",
    "        # 学習率\n",
    "        # 重み\n",
    "        self.lr_W1 = lr_W1\n",
    "        self.lr_W2 = lr_W2\n",
    "        self.lr_W3 = lr_W3\n",
    "\n",
    "        # バイアス\n",
    "        self.lr_b1 = lr_b1\n",
    "        self.lr_b2 = lr_b2\n",
    "        self.lr_b3 = lr_b3\n",
    "        \n",
    "        # 内部保存パラメータ\n",
    "        self.Llist = [] # 学習曲線データ\n",
    "        \n",
    "        # 重み\n",
    "        self.W1 = sigma * np.random.randn(n_features, n_nodes1)\n",
    "        self.W2 = sigma * np.random.randn(n_nodes1, n_nodes2)\n",
    "        self.W3 = sigma * np.random.randn(n_nodes2, n_output)\n",
    "\n",
    "        # バイアス\n",
    "        self.b1 = 0\n",
    "        self.b2 = 0\n",
    "        self.b3 = 0\n",
    "        \n",
    "    def fit(self, X, y, X_val=None, y_val=None):\n",
    "        \"\"\"\n",
    "        ニューラルネットワーク分類器を学習する。\n",
    "\n",
    "        Parameters\n",
    "        ----------\n",
    "        X : 次の形のndarray, shape (n_samples, n_features)\n",
    "            学習用データの特徴量\n",
    "        y : 次の形のndarray, shape (n_samples, )\n",
    "            学習用データの正解値\n",
    "        X_val : 次の形のndarray, shape (n_samples, n_features)\n",
    "            検証用データの特徴量\n",
    "        y_val : 次の形のndarray, shape (n_samples, )\n",
    "            検証用データの正解値\n",
    "        \"\"\"\n",
    "\n",
    "        if self.verbose:\n",
    "            #verboseをTrueにした際は学習過程などを出力する\n",
    "            print()\n",
    "        \n",
    "        # ミニバッチ生成\n",
    "        get_mini_batch = GetMiniBatch(X, y, batch_size=10)\n",
    "    \n",
    "        # エポック数分回す\n",
    "        for epoch in range(self.num_epoch):\n",
    "            print(epoch)\n",
    "            for i, (mini_X, mini_y) in enumerate(get_mini_batch):\n",
    "                # node1\n",
    "                a1 = self._node(mini_X, self.W1, self.b1)\n",
    "                #Z1 = self._sigmoid(a1)\n",
    "                Z1 = self._tanh(a1)\n",
    "\n",
    "                # node2\n",
    "                a2 = self._node(Z1, self.W2, self.b2)\n",
    "                #Z2 = self._sigmoid(a2)\n",
    "                Z2 = self._tanh(a2)\n",
    "\n",
    "                # node3\n",
    "                a3 = self._node(Z2, self.W3, self.b3)\n",
    "                Z3 = self._softmax(a3)\n",
    "\n",
    "                # loss\n",
    "#               L = - np.mean( np.sum(mini_y.T*np.log(Z3), axis=1) )\n",
    "#               self.Llist.append(L)\n",
    "\n",
    "                # バックプロパゲーション\n",
    "                # 3層目の更新\n",
    "                delta3 = Z3 - mini_y\n",
    "                newW3 = np.dot(Z2.T, delta3)\n",
    "                delta2 = self._delta(delta3, self.W3)\n",
    "\n",
    "                # W3更新\n",
    "                self.W3 = self.W3 - self.lr_W1*newW3\n",
    "                # b3更新\n",
    "                self.b3 = self.b3 - self.lr_b1*np.mean(delta3, axis=1)[:,np.newaxis]\n",
    "\n",
    "                # 2層目更新\n",
    "                newa2 = delta2 * (1 - self._sigmoid(a2)) * self._sigmoid(a2)\n",
    "                #newa2 = delta2 * (1 - self._tanh(a2)**2) \n",
    "                newW2 = np.dot(Z1.T, newa2)\n",
    "                delta1 = self._delta(newa2, self.W2)\n",
    "\n",
    "                # W2更新\n",
    "                self.W2 = self.W2 - self.lr_W2*newW2\n",
    "                # b2更新\n",
    "                self.b2 = self.b2 - self.lr_b2*np.mean(newa2, axis=1)[:,np.newaxis]\n",
    "\n",
    "                # 1層目更新\n",
    "                newa1 = delta1 * (1 - self._sigmoid(a1)) * self._sigmoid(a1)\n",
    "                #newa1 = delta1 * (1 - self._tanh(a1)**2)\n",
    "                newW1 = np.dot(mini_X.T, newa1)\n",
    "\n",
    "                # W1更新\n",
    "                self.W1 = self.W1 - self.lr_W1*newW1\n",
    "                # b1更新\n",
    "                self.b1 = self.b1 - self.lr_b1*np.mean(newa1, axis=1)[:,np.newaxis]\n",
    "\n",
    "            L = - np.mean( np.sum(mini_y.T*np.log(Z3), axis=1) )\n",
    "            self.Llist.append(L)\n",
    "    \n",
    "    def _node(self, Z, W, b):\n",
    "        \"\"\"\n",
    "        ノード計算\n",
    "        \"\"\"\n",
    "        return np.dot(Z, W) + b\n",
    "    \n",
    "    def _delta(self, delta, W):\n",
    "        \"\"\"\n",
    "        デルタ(誤差)\n",
    "        \"\"\"\n",
    "        return np.dot(delta, W.T)\n",
    "    \n",
    "    def _sigmoid(self, A):\n",
    "        \"\"\"\n",
    "        活性化関数\n",
    "        シグモイド関数\n",
    "        \"\"\"\n",
    "        return 1 / (1 + np.exp(-1*A))\n",
    "    \n",
    "    def _tanh(self, A):\n",
    "        \"\"\"\n",
    "        活性化関数\n",
    "        ハイパブリック関数\n",
    "        \"\"\"\n",
    "        return (np.exp(A) - np.exp(-1*A))/(np.exp(A) + np.exp(-1*A))\n",
    "    \n",
    "    def _softmax(self, A):\n",
    "        \"\"\"\n",
    "        softmap関数\n",
    "        \"\"\"\n",
    "        if A.ndim == 2:\n",
    "            A = A.T\n",
    "            A = A - np.max(A, axis=0)\n",
    "            y = np.exp(A) / np.sum(np.exp(A), axis=0)\n",
    "            return y.T\n",
    "\n",
    "        A = A - np.max(A)\n",
    "        return np.exp(A) / np.sum(np.exp(A))\n",
    "\n",
    "    def predict(self, X):\n",
    "        \"\"\"\n",
    "        ニューラルネットワーク分類器を使い推定する。\n",
    "\n",
    "        Parameters\n",
    "        ----------\n",
    "        X : 次の形のndarray, shape (n_samples, n_features)\n",
    "            サンプル\n",
    "\n",
    "        Returns\n",
    "        -------\n",
    "            次の形のndarray, shape (n_samples, 1)\n",
    "            推定結果\n",
    "        \"\"\"\n",
    "        result = []\n",
    "        get_mini_batch = GetMiniBatch(X, X, batch_size=10)\n",
    "        \n",
    "        for i, (mini_X, mini_y) in enumerate(get_mini_batch):\n",
    "            # node1\n",
    "            a1 = self._node(mini_X, self.W1, self.b1)\n",
    "            #a1 = np.dot(mini_X, W1) + b1\n",
    "            Z1 = self._sigmoid(a1)\n",
    "\n",
    "            # node2\n",
    "            a2 = self._node(Z1, self.W2, self.b2)\n",
    "            #a2 = np.dot(Z1, W2) + b2\n",
    "            Z2 = self._sigmoid(a2)\n",
    "\n",
    "            # node3\n",
    "            a3 = self._node(Z2, self.W3, self.b3)\n",
    "            #a3 = np.dot(Z2, W3) + b3\n",
    "            Z3 = self._softmax(a3)\n",
    "            \n",
    "            result.append(np.argmax(Z3, axis=1)[:,np.newaxis])\n",
    "            \n",
    "        return np.vstack(result)"
   ]
  },
  {
   "cell_type": "markdown",
   "metadata": {},
   "source": [
    "# ミニバッチ"
   ]
  },
  {
   "cell_type": "code",
   "execution_count": 12,
   "metadata": {},
   "outputs": [],
   "source": [
    "class GetMiniBatch:\n",
    "    \"\"\"\n",
    "    ミニバッチを取得するイテレータ\n",
    "\n",
    "    Parameters\n",
    "    ----------\n",
    "    X : 次の形のndarray, shape (n_samples, n_features)\n",
    "      学習データ\n",
    "    y : 次の形のndarray, shape (n_samples, 1)または(n_samples,)\n",
    "      正解値\n",
    "    batch_size : int\n",
    "      バッチサイズ\n",
    "    seed : int\n",
    "      NumPyの乱数のシード\n",
    "\n",
    "    Retruns\n",
    "    ----------\n",
    "    for文で呼び出すと以下の2つを返す。最後のイテレーションでは、バッチサイズより小さいこともある。\n",
    "    mini_X : 次の形のndarray, shape (batch_size, n_features)\n",
    "      学習データのミニバッチ\n",
    "    mini_y : 次の形のndarray, shape (batch_size, 1)または(batch_size,)\n",
    "      正解値のミニバッチ\n",
    "    \"\"\"\n",
    "    def __init__(self, X, y, batch_size = 10, seed=0):\n",
    "        self.batch_size = batch_size\n",
    "        # ランダムに並べ換える\n",
    "        np.random.seed(seed)\n",
    "        shuffle_index = np.random.permutation(np.arange(X.shape[0]))\n",
    "        self.X = X[shuffle_index]\n",
    "        self.y = y[shuffle_index]\n",
    "        self._counter = 0\n",
    "        # イテレーション数を計算する\n",
    "        self._stop = np.ceil(X.shape[0]/self.batch_size).astype(np.int)\n",
    "\n",
    "    def __len__(self):\n",
    "        # len()が使われたときの処理\n",
    "        return self._stop\n",
    "\n",
    "    def __iter__(self):\n",
    "        return self\n",
    "\n",
    "    def __next__(self):\n",
    "        # for文で呼ばれた際のループごとの処理\n",
    "        if self._counter >= self._stop:\n",
    "            # 最後まで進んだら終了\n",
    "            self._counter = 0\n",
    "            raise StopIteration()\n",
    "\n",
    "        p0 = self._counter*self.batch_size\n",
    "        p1 = self._counter*self.batch_size + self.batch_size\n",
    "        self._counter += 1\n",
    "        return self.X[p0:p1], self.y[p0:p1]"
   ]
  },
  {
   "cell_type": "code",
   "execution_count": 13,
   "metadata": {},
   "outputs": [
    {
     "data": {
      "text/plain": [
       "(60000, 10)"
      ]
     },
     "execution_count": 13,
     "metadata": {},
     "output_type": "execute_result"
    }
   ],
   "source": [
    "y_train_one_hot.shape"
   ]
  },
  {
   "cell_type": "markdown",
   "metadata": {},
   "source": [
    "# フォワードプロパゲーション"
   ]
  },
  {
   "cell_type": "code",
   "execution_count": 14,
   "metadata": {},
   "outputs": [],
   "source": [
    "batch_size = 10 # バッチサイズ\n",
    "n_features = 784 # 特徴量の数\n",
    "n_nodes1 = 400 # 1層目のノード数\n",
    "n_nodes2 = 200 # 2層目のノード数\n",
    "n_output = 10 # 出力のクラス数（3層目のノード数）"
   ]
  },
  {
   "cell_type": "code",
   "execution_count": 15,
   "metadata": {},
   "outputs": [],
   "source": [
    "# X_train.shape"
   ]
  },
  {
   "cell_type": "code",
   "execution_count": 16,
   "metadata": {},
   "outputs": [],
   "source": [
    "# n_features = 784\n",
    "# n_node1 = 400\n",
    "# sigma = 0.01 # ガウス分布の標準偏差\n",
    "# # W1 = sigma * np.random.randn(n_features, n_node1)\n",
    "# # W1: (784, 400)"
   ]
  },
  {
   "cell_type": "code",
   "execution_count": 17,
   "metadata": {},
   "outputs": [],
   "source": [
    "# def sigmoid(A):\n",
    "#     return 1 / (1 + np.exp(-1*A))"
   ]
  },
  {
   "cell_type": "code",
   "execution_count": 18,
   "metadata": {},
   "outputs": [],
   "source": [
    "# def tanh(A):\n",
    "#     return (np.exp(A) - np.exp(-1*A))/(np.exp(A) + np.exp(-1*A))"
   ]
  },
  {
   "cell_type": "code",
   "execution_count": 19,
   "metadata": {},
   "outputs": [],
   "source": [
    "# def softmax(A):\n",
    "#     if A.ndim == 2:\n",
    "#         A = A.T\n",
    "#         A = A - np.max(A, axis=0)\n",
    "#         y = np.exp(A) / np.sum(np.exp(A), axis=0)\n",
    "#         return y.T\n",
    "# # \n",
    "#     A = A - np.max(A)\n",
    "#     return np.exp(A) / np.sum(np.exp(A))"
   ]
  },
  {
   "cell_type": "code",
   "execution_count": 20,
   "metadata": {},
   "outputs": [],
   "source": [
    "# np.sum(softmax(X_train))"
   ]
  },
  {
   "cell_type": "code",
   "execution_count": 21,
   "metadata": {},
   "outputs": [],
   "source": [
    "# # node1 重み\n",
    "# b1 = 1 \n",
    "# a1 = np.dot(X_train, W1) + b1\n",
    "# print(a1.shape)\n",
    "# print(W1.shape)"
   ]
  },
  {
   "cell_type": "code",
   "execution_count": 22,
   "metadata": {},
   "outputs": [],
   "source": [
    "# # node1 活性化関数\n",
    "# Z1 = sigmoid(a1)\n",
    "# Z1.shape"
   ]
  },
  {
   "cell_type": "code",
   "execution_count": 23,
   "metadata": {},
   "outputs": [],
   "source": [
    "# # node2 重み\n",
    "# W2 = sigma * np.random.randn(n_nodes1, n_nodes2)\n",
    "# W2.shape"
   ]
  },
  {
   "cell_type": "code",
   "execution_count": 24,
   "metadata": {},
   "outputs": [],
   "source": [
    "# # node2 重み\n",
    "# b2 = 1\n",
    "# W2 = sigma * np.random.randn(n_nodes1, n_nodes2)\n",
    "# a2 = np.dot(Z1, W2) + b2\n",
    "# a2.shape"
   ]
  },
  {
   "cell_type": "code",
   "execution_count": 25,
   "metadata": {},
   "outputs": [],
   "source": [
    "# # node2 活性化関数\n",
    "# Z2 = sigmoid(a2)\n",
    "# Z2.shape"
   ]
  },
  {
   "cell_type": "code",
   "execution_count": 26,
   "metadata": {},
   "outputs": [],
   "source": [
    "# # node3 重み\n",
    "# b3 = 1\n",
    "# W3 = sigma * np.random.randn(n_nodes2, n_output)\n",
    "# a3 = np.dot(Z2, W3) + b3\n",
    "# a3.shape"
   ]
  },
  {
   "cell_type": "code",
   "execution_count": 27,
   "metadata": {},
   "outputs": [],
   "source": [
    "# yhat = softmax(a3)\n",
    "# yhat.shape"
   ]
  },
  {
   "cell_type": "code",
   "execution_count": 28,
   "metadata": {},
   "outputs": [],
   "source": [
    "#L = - np.sum(np.dot(y_train_one_hot.T, np.log(yhat)))"
   ]
  },
  {
   "cell_type": "code",
   "execution_count": 29,
   "metadata": {},
   "outputs": [],
   "source": [
    "#L"
   ]
  },
  {
   "cell_type": "code",
   "execution_count": 30,
   "metadata": {},
   "outputs": [],
   "source": [
    "# y_train_one_hot.shape"
   ]
  },
  {
   "cell_type": "code",
   "execution_count": 31,
   "metadata": {},
   "outputs": [],
   "source": [
    "# y_train[0]"
   ]
  },
  {
   "cell_type": "markdown",
   "metadata": {},
   "source": [
    "# バックプロパゲーション"
   ]
  },
  {
   "cell_type": "code",
   "execution_count": 32,
   "metadata": {},
   "outputs": [],
   "source": [
    "# # 3層目の更新\n",
    "# delta3 = y_train_one_hot - yhat\n",
    "# delta3.shape"
   ]
  },
  {
   "cell_type": "code",
   "execution_count": 33,
   "metadata": {},
   "outputs": [],
   "source": [
    "# np.mean(delta3, axis=1).shape"
   ]
  },
  {
   "cell_type": "code",
   "execution_count": 34,
   "metadata": {},
   "outputs": [],
   "source": [
    "# b3 = delta3"
   ]
  },
  {
   "cell_type": "code",
   "execution_count": 35,
   "metadata": {},
   "outputs": [],
   "source": [
    "# b3.shape"
   ]
  },
  {
   "cell_type": "code",
   "execution_count": 36,
   "metadata": {},
   "outputs": [],
   "source": [
    "# newW3 = np.dot(Z2.T, delta3)"
   ]
  },
  {
   "cell_type": "code",
   "execution_count": 37,
   "metadata": {},
   "outputs": [],
   "source": [
    "# delta2 = np.dot(delta3, W3.T)"
   ]
  },
  {
   "cell_type": "code",
   "execution_count": 38,
   "metadata": {},
   "outputs": [],
   "source": [
    "# # 2層目更新\n",
    "# newa2 = delta2 * (1 - sigmoid(a2)) * sigmoid(a2)"
   ]
  },
  {
   "cell_type": "code",
   "execution_count": 39,
   "metadata": {},
   "outputs": [],
   "source": [
    "# b2 = newa2"
   ]
  },
  {
   "cell_type": "code",
   "execution_count": 40,
   "metadata": {},
   "outputs": [],
   "source": [
    "# newW2 = np.dot(Z1.T, newa2)"
   ]
  },
  {
   "cell_type": "code",
   "execution_count": 41,
   "metadata": {},
   "outputs": [],
   "source": [
    "# delta1 = np.dot(newa2, W2.T)"
   ]
  },
  {
   "cell_type": "code",
   "execution_count": 42,
   "metadata": {},
   "outputs": [],
   "source": [
    "# # 1層目更新\n",
    "# newa1 = delta1 * (1 - sigmoid(a1)) * sigmoid(a1)"
   ]
  },
  {
   "cell_type": "code",
   "execution_count": 43,
   "metadata": {},
   "outputs": [],
   "source": [
    "# b1 = newa1"
   ]
  },
  {
   "cell_type": "code",
   "execution_count": 44,
   "metadata": {},
   "outputs": [],
   "source": [
    "# newW1 = np.dot(X_train.T, newa1)"
   ]
  },
  {
   "cell_type": "markdown",
   "metadata": {},
   "source": [
    "# 4.実行"
   ]
  },
  {
   "cell_type": "code",
   "execution_count": 45,
   "metadata": {},
   "outputs": [],
   "source": [
    "Nw = ScratchSimpleNeuralNetrowkClassifier()"
   ]
  },
  {
   "cell_type": "code",
   "execution_count": 46,
   "metadata": {},
   "outputs": [
    {
     "name": "stdout",
     "output_type": "stream",
     "text": [
      "\n",
      "0\n",
      "1\n",
      "2\n",
      "3\n",
      "4\n",
      "5\n",
      "6\n",
      "7\n",
      "8\n",
      "9\n",
      "10\n",
      "11\n",
      "12\n",
      "13\n",
      "14\n",
      "15\n",
      "16\n",
      "17\n",
      "18\n",
      "19\n",
      "20\n",
      "21\n",
      "22\n",
      "23\n",
      "24\n",
      "25\n",
      "26\n",
      "27\n",
      "28\n",
      "29\n"
     ]
    }
   ],
   "source": [
    "Nw.fit(X_train, y_train_one_hot)"
   ]
  },
  {
   "cell_type": "code",
   "execution_count": 47,
   "metadata": {},
   "outputs": [
    {
     "data": {
      "image/png": "[encoded data removed]",
      "text/plain": [
       "<Figure size 432x288 with 1 Axes>"
      ]
     },
     "metadata": {},
     "output_type": "display_data"
    }
   ],
   "source": [
    "import matplotlib.pyplot as plt\n",
    "import seaborn as sns\n",
    "sns.set()\n",
    "\n",
    "plt.plot(Nw.Llist)\n",
    "plt.xlabel(\"visit_datetime\")\n",
    "plt.ylabel(\"reserve_visitors\")\n",
    "plt.xticks(rotation=\"vertical\")\n",
    "plt.show()"
   ]
  },
  {
   "cell_type": "code",
   "execution_count": 48,
   "metadata": {},
   "outputs": [
    {
     "data": {
      "text/plain": [
       "array([[1],\n",
       "       [1],\n",
       "       [1],\n",
       "       ...,\n",
       "       [1],\n",
       "       [1],\n",
       "       [1]])"
      ]
     },
     "execution_count": 48,
     "metadata": {},
     "output_type": "execute_result"
    }
   ],
   "source": [
    "Nw.predict(X_test)"
   ]
  },
  {
   "cell_type": "markdown",
   "metadata": {},
   "source": [
    "# 5. 説明文\n",
    "## 5.1 ニューラルネットワークの仕組み\n",
    "### ニューラルネットワークとは\n",
    "これは、簡単に説明すると、人間の脳の仕組みをコンピュータに適用したものである。<br>\n",
    "人間の脳には，ニューロンと呼ばれる神経細胞がある。<br>\n",
    "このニューロンは，他のニューロンから信号を受け取ったり，信号を受け渡したりすることによって，情報を処理する。"
   ]
  },
  {
   "cell_type": "markdown",
   "metadata": {},
   "source": [
    "![](https://cdn-ak.f.st-hatena.com/images/fotolife/M/McG/20161115/20161115225427.png)\n",
    "つまり、この仕組みをコンピュータで再現してあげると、人間の脳と同じ能力をコンピュータがもてるのではないかと考えたわけである。\n",
    "それがニューラルネットワークの始まりである。"
   ]
  },
  {
   "cell_type": "markdown",
   "metadata": {},
   "source": [
    "### ニューロンモデル\n",
    "それでは、ニューラルネットワークを作る前に，まずはニューロン単体で考えてあげる必要がある。<br>\n",
    "先程述べたように、ニューロンは信号を受取り、その情報を処理して受け渡す。<br>\n",
    "つまり、以下のようにモデル化出来る。\n",
    "![](https://cdn-ak.f.st-hatena.com/images/fotolife/M/McG/20161115/20161115230946.png)\n",
    "xという信号を受取り、関数fにより処理して、yという信号を受け渡している状況である。<br>\n",
    "ここで、重みとバイアスを導入する。<br>\n",
    "受け取った信号をそのまま処理するのではなく、信号を重み付けのために重みのwをかけ、さらに定数項として、バイアスbと呼ばれるものを足してあげる。<br>\n",
    "すると，ニューロンモデルは以下のようになる。\n",
    "![](https://cdn-ak.f.st-hatena.com/images/fotolife/M/McG/20161115/20161115231819.png)\n",
    "入力信号xに、重みwがかけられ、定数項としてバイアスbが足されるので、入力信号は$wx+b$となる。<br>\n",
    "それが、関数fによって処理されるので、出力は，$y=f(wx+b)$となる。"
   ]
  },
  {
   "cell_type": "markdown",
   "metadata": {},
   "source": [
    "### 処理用の関数の正体\n",
    "では、$y=f(wx+b)$における関数fとはどのような関数なのか。<br>\n",
    "これは$f(x)=11+e−x$という形の関数で、シグモイド関数と呼ばれる。<br>\n",
    "$f(x)=11+e−x$をグラフ化してみると以下のようになる。\n",
    "![](https://cdn-ak.f.st-hatena.com/images/fotolife/M/McG/20161115/20161115233235.png)\n",
    "結果から、$f(x)=11+e−x$は$x$が−∞に行けば行くほど0に近づき、xが∞に行くほど、1に近づく、そんな関数である。<br>\n",
    "ここで、y=f(wx+b)は、f(x)=11+e−xより、f(wx+b)=11+e−(wx+b)となるわけである。<br>\n",
    "整理すると、\n",
    "![](https://cdn-ak.f.st-hatena.com/images/fotolife/M/McG/20161116/20161116011505.png)\n",
    "### 複数入力の場合\n",
    "今までは、入力が一つの場合を見てきた。\n",
    "今度は、複数入力の場合をみてみよう。\n",
    "![](https://cdn-ak.f.st-hatena.com/images/fotolife/M/McG/20161115/20161115235033.png)\n",
    "それぞれの入力x1,x2,x3に、重みがそれぞれw1,w2,w3かかり、バイアスbを足してあげたのを関数fで処理すればいいので、出力は、$f(w1x1+w2x2+w3x3+b)$となる。<br>\n",
    "    ここで$w1x1+w2x2+w3x3$というのは、${\\bf w} = \\begin{bmatrix}w_1 \\\\ w_2 \\\\ w_3 \\end{bmatrix}$と，${\\bf x} = \\begin{bmatrix}x_1 \\\\ x_2 \\\\ x_3 \\end{bmatrix}$の内積で書くことができる。<br>\n",
    "つまり，出力は$f( {\\bf w}^T {\\bf x}+b)$と書くことができる。<br>\n",
    "このニューロンを，複数つなぐと，どんどんいろんな出力を作ることが出来できる。\n",
    "![](https://cdn-ak.f.st-hatena.com/images/fotolife/M/McG/20161116/20161116001743.png)\n",
    "この、入力と出力の間に隠れたニューロンのことを、隠れニューロンと呼ぶ。また、その隠れニューロンが層になってるところを、中間層と呼びまぶ。<br>\n",
    "また、いきなりどこかから入力信号が現れるのもおかしな話なので、入力信号を出すニューロンをはじめにおいてあげる。<br>\n",
    "すると，以下のようになる。\n",
    "![](https://cdn-ak.f.st-hatena.com/images/fotolife/M/McG/20161116/20161116003050.png)\n",
    "なんとなく，人間の脳っぽいことをやっているなっていうイメージが出来たのではないだろうか。"
   ]
  },
  {
   "cell_type": "markdown",
   "metadata": {},
   "source": [
    "## 5.2 バックプロパゲーションとは何か\n",
    "誤差逆伝播法（BP：バック・プロパゲーション）は1986年、米スタンフォード大学のラメルハート教授らが発表した多層階層型ニューラルネットワークの学習方法。入力層へ或る情報が与えられたら、出力層はそれに対応した或る情報を出力しなければならない場合の学習方法となる。<br>\n",
    "最初は入力層→中間層→出力層への結合係数はランダムに与えられるので、或る入力情報に対し、出力層はそれに対応した出力をするとは限らない。望ましい出力との誤差を教師信号として与える事により、次第に結合係数を変化させ、最終的に正しい出力が得られるようにする。ここでは、結合係数を変えて行く事を学習と呼ぶ。<br>\n",
    "この学習方法には、最急降下法（勾配法）という計算方法が使われる。"
   ]
  },
  {
   "cell_type": "markdown",
   "metadata": {},
   "source": [
    "## 5.3 活性化関数の役割とは何か\n",
    "### 活性化関数：シグモイド関数\n",
    "シグモイド関数は次の図のような指数を用いた関数となる。横軸が入力値の合計値で、縦軸が出力値となる。入力値の合計値が小さければ小さいほど出力値は0に近づき、入力値の合計値が大きければ大きいほど出力値が1に近づいていく。\n",
    "![](https://newtechnologylifestyle.net/wp-content/uploads/2018/02/%E3%82%B7%E3%82%B0%E3%83%A2%E3%82%A4%E3%83%89%E9%96%A2%E6%95%B0.png)\n",
    "ここで分かるのは、シグモイド関数の計算式とグラフの式だけである。<br>\n",
    "シグモイド関数は2クラスの識別問題の場合に非常によく使用される。<br>\n",
    "つまり「0または1」という2つの解を求める場合である。<br>\n",
    "数字だとイメージがしづらいので、動物を例にして説明する。「犬か猫」のどちらかになるかを判定する画像認識があったとする。その場合は、言い換えると、「犬か犬ではないか」と表現することができる。<br>\n",
    "先ほどのニューロンの図で表すと、活性化関数は「犬」の確率を表す。<br>\n",
    "つまり、INPUTして何かしらの入力値を受け取り、活性化関数にわたすことで「犬」の確立が80%とか、「犬」の確立は20%という結果値を得ることができる。また「犬」の確立が20%なら、答えは「猫」となる。\n",
    "![](https://newtechnologylifestyle.net/wp-content/uploads/2018/02/%E3%82%B7%E3%82%B0%E3%83%A2%E3%82%A4%E3%83%89%E9%96%A2%E6%95%B0%EF%BC%88%E3%82%A4%E3%83%A9%E3%82%B9%E3%83%88%EF%BC%89.png)\n",
    "### 活性化関数：ソフトマックス関数\n",
    "先ほどのシグモイド関数では2クラス問題と呼ばれる、「0または1」という2つの解を求める場合について行った。では、それが多クラス問題となったらどうなるか。<br>\n",
    "例えば、「犬、猫、ライオン、熊」とかである。<br>\n",
    "その場合、確立としては 犬=>0%、猫=>60%、ライオン=>20%、熊=>20%　という表現となっていると扱いやすい。<br>\n",
    "ソフトマックス関数は最終的な合計値が1となるように算出することが特徴。つまり、全てのカテゴリを合計した場合に100%となるよう算出することが出来るとも言える。\n",
    "ソフトマックス関数は何しかしらの計算で求められてきた場合について、 犬=>0%、猫=>60%、ライオン=>20%、熊=>20%　：合計 100%と計算できる特徴を持っているということである。<br>\n",
    "そのため、多クラス問題の識別ではソフトマックス関数がよく使用される。\n",
    "### 活性化関数：恒等関数\n",
    "いままで、2クラス問題、多クラス問題とシグモイド関数やソフトマックス関数と活性化関数を用いてある特定の確立に変換してきた。<br>\n",
    "しかしながら、確率に変換する必要もなく、受け取った値そのまま出力したいという場合もあるでしょう。その場合は恒等関数の出番。<br>\n",
    "恒等関数は受け取ったそのままの値を変換せずに出力する。<br>\n",
    "回帰問題などで、入力パラメータから受け取ったそのままの値を変換せずに出力したい場合に恒等関数が使わる場合がある。\n",
    "### 活性化関数：ReLU\n",
    "次の図のような関数となる。横軸が入力値の合計値で、縦軸が出力値となる。入力値の合計値が0以下の場合は出力値が0となり、0以上の場合は、そのまま入力値が出力値となる。\n",
    "![](https://newtechnologylifestyle.net/wp-content/uploads/2018/02/ReLU.png)\n",
    "よく見てみると入力の値がマイナスだった場合は0という一定値。入力の値がプラスの場合はそのまま入力の値を出しているので、恒等関数と同じようになる。プラスの値のみ恒等関数を使用したいという場合に使用される。"
   ]
  }
 ],
 "metadata": {
  "kernelspec": {
   "display_name": "Python 3",
   "language": "python",
   "name": "python3"
  },
  "language_info": {
   "codemirror_mode": {
    "name": "ipython",
    "version": 3
   },
   "file_extension": ".py",
   "mimetype": "text/x-python",
   "name": "python",
   "nbconvert_exporter": "python",
   "pygments_lexer": "ipython3",
   "version": "3.6.6"
  },
  "toc": {
   "base_numbering": 1,
   "nav_menu": {},
   "number_sections": false,
   "sideBar": true,
   "skip_h1_title": false,
   "title_cell": "Table of Contents",
   "title_sidebar": "Contents",
   "toc_cell": false,
   "toc_position": {
    "height": "calc(100% - 180px)",
    "left": "10px",
    "top": "150px",
    "width": "273.2px"
   },
   "toc_section_display": true,
   "toc_window_display": false
  }
 },
 "nbformat": 4,
 "nbformat_minor": 2
}
