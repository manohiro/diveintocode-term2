{
 "cells": [
  {
   "cell_type": "markdown",
   "metadata": {},
   "source": [
    "# Sprint20"
   ]
  },
  {
   "cell_type": "markdown",
   "metadata": {},
   "source": [
    "## 深層学習とは何か"
   ]
  },
  {
   "cell_type": "markdown",
   "metadata": {},
   "source": [
    "深層学習は人工知能の一部である。以下に人工知能と深層学習の関係図を示す。機械学習よりもモデルの表現力が高く、より複雑なことができる。\n",
    "![](https://www.optim.cloud/wp-content/uploads/1712_blog_1.png)"
   ]
  },
  {
   "cell_type": "markdown",
   "metadata": {},
   "source": [
    "## 深層学習では何ができるのか"
   ]
  },
  {
   "cell_type": "markdown",
   "metadata": {},
   "source": [
    "深層学習では、自ら入力データから特徴を抽出することができる。そのため、人間が特徴量を抽出する必要がない。例えば、猫を認識したいと考えた場合、猫の耳や顔の形等がどうなっているかを考え必要がある。しかし、深層学習の場合は猫の画像を入力データとして学習させるだけで猫を認識できるようになる。"
   ]
  },
  {
   "cell_type": "markdown",
   "metadata": {},
   "source": [
    "## 他の機械学習手法よりも深層学習が適しているデータや状況は何か\n",
    "上記に記載したように、人間が特徴を抽出する困難な場合に深層学習が適している。"
   ]
  },
  {
   "cell_type": "markdown",
   "metadata": {},
   "source": [
    "## 深層学習の層の組み方はどのように決定するべきか\n",
    "世の中にはVGG16やU-netの様に既に成功しているネットワークが存在している。それらを今回使用したデータにあったネットワークを選択する。"
   ]
  },
  {
   "cell_type": "markdown",
   "metadata": {},
   "source": [
    "## 活性化関数はどのように選択すれば良いか\n",
    "隠れ層であれば飽和し難い「relu」系を選択する。分類問題であれば確率で出力したいので「sigmoid」を選択する。回帰問題であれば、そのまま「relu」系を使用する。"
   ]
  },
  {
   "cell_type": "markdown",
   "metadata": {},
   "source": [
    "## 学習曲線を確認して学習データと検証データの損失の差が大きかった場合にはまず何をすれば良いか\n",
    "学習データと検証データの損失の差が大きい場合は過学習をしていることが考える。なので、過学習を防ぐ「Batch Normalization 」、「Drop Out」を隠れ層に追加する。また、学習回数(epoch)が多いことも過学習の原因になるので、「early stopping」を使用して防ぐ。"
   ]
  },
  {
   "cell_type": "markdown",
   "metadata": {},
   "source": [
    "## 深層学習はデータ量がある程度必要だとされているがそれはなぜか\n",
    "深層学習ではモデルが自ら入力データから特徴(パターン)を抽出する。そのため、様々なパターンでも精度を上げるためには学習する段階でより、多くのパターンを学習させる必要がある。"
   ]
  },
  {
   "cell_type": "markdown",
   "metadata": {},
   "source": [
    "## 手元にあるデータが少ない場合はどうするか\n",
    "手元にあるデータを加工して水増しる。画像であれば、水平移動、回転等をしたり、画像にあえてノイズを加えたりする。"
   ]
  },
  {
   "cell_type": "code",
   "execution_count": null,
   "metadata": {},
   "outputs": [],
   "source": []
  }
 ],
 "metadata": {
  "kernelspec": {
   "display_name": "Python 3",
   "language": "python",
   "name": "python3"
  },
  "language_info": {
   "codemirror_mode": {
    "name": "ipython",
    "version": 3
   },
   "file_extension": ".py",
   "mimetype": "text/x-python",
   "name": "python",
   "nbconvert_exporter": "python",
   "pygments_lexer": "ipython3",
   "version": "3.6.6"
  },
  "toc": {
   "base_numbering": 1,
   "nav_menu": {},
   "number_sections": false,
   "sideBar": true,
   "skip_h1_title": false,
   "title_cell": "Table of Contents",
   "title_sidebar": "Contents",
   "toc_cell": false,
   "toc_position": {},
   "toc_section_display": true,
   "toc_window_display": false
  }
 },
 "nbformat": 4,
 "nbformat_minor": 2
}
