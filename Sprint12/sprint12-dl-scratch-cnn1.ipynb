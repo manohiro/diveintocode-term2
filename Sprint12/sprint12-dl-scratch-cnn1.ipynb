{
 "cells": [
  {
   "cell_type": "markdown",
   "metadata": {},
   "source": [
    "# Sprint 12"
   ]
  },
  {
   "cell_type": "code",
   "execution_count": 1,
   "metadata": {},
   "outputs": [],
   "source": [
    "import numpy as np\n",
    "import pandas as pd\n",
    "\n",
    "# ログ表示\n",
    "class Log:\n",
    "    # 表示ログレベル\n",
    "    Loglevel = 0\n",
    "    def logLevelset(level):\n",
    "        # 表示ログレベルの設定\n",
    "        Log.Loglevel = level\n",
    "    def log_print(level, std, *variable):\n",
    "        if(Log.Loglevel >= level):\n",
    "            if(len(variable) == 0):\n",
    "                print(std)\n",
    "            else:\n",
    "                for i in range(len(variable)):\n",
    "                    index = std.find(\"}\") + 1\n",
    "                    # 改行なし表示\n",
    "                    print(std[:index].format(variable[i]), end='')\n",
    "                    # 表示した分を削除\n",
    "                    std = std.replace(std[:index], \"\", 1)\n",
    "                # 改行表示\n",
    "                print(std)"
   ]
  },
  {
   "cell_type": "code",
   "execution_count": 120,
   "metadata": {},
   "outputs": [],
   "source": [
    "Log.logLevelset(2)"
   ]
  },
  {
   "cell_type": "markdown",
   "metadata": {},
   "source": [
    "# 1.Sprint10のスクラッチ"
   ]
  },
  {
   "cell_type": "code",
   "execution_count": 3,
   "metadata": {},
   "outputs": [],
   "source": [
    "class Scratch1dCNNClassifier:\n",
    "    \"\"\"\n",
    "    シンプルな三層ニューラルネットワーク分類器\n",
    "\n",
    "    Parameters\n",
    "    ----------\n",
    "\n",
    "    Attributes\n",
    "    ----------\n",
    "    \"\"\"\n",
    "    def __init__(self, verbose=True, lr=1e-4, num_epoch=2000, batch_size=10, sigma=1e-4, n_nodes1=10, n_nodes2=5, n_output=1):\n",
    "        self.verbose = verbose\n",
    "        self.lr = lr\n",
    "        self.num_epoch = num_epoch # epoch回数\n",
    "        self.batch_size = batch_size # バッチサイズ\n",
    "        self.sigma = sigma\n",
    "        self.n_features = 0\n",
    "        self.n_nodes1 = n_nodes1 # 1層目のノード数\n",
    "        self.n_nodes2 = n_nodes2 # 2層目のノード数\n",
    "        self.n_output = n_output # 出力数（3層目のノード数）\n",
    "        self.cost = []\n",
    "        \n",
    "        # レイヤーのインスタンス\n",
    "        self.FC1 = None\n",
    "        self.FC2 = None\n",
    "        self.FC3 = None\n",
    "        self.activation1 = None\n",
    "        self.activation2 = None\n",
    "        self.activation3 = None\n",
    "    \n",
    "    def fit(self, X, y, X_val=None, y_val=None):\n",
    "        if self.verbose:\n",
    "            #verboseをTrueにした際は学習過程などを出力する\n",
    "            print()\n",
    "        \n",
    "        # array変換\n",
    "        X = np.array(X)\n",
    "        y = np.array(y)\n",
    "        \n",
    "        # ミニバッチ生成\n",
    "        get_mini_batch = GetMiniBatch(X, y, batch_size=10)\n",
    "                \n",
    "        \"\"\"\n",
    "        初期化処理\n",
    "        \"\"\"\n",
    "        self.n_features = X.shape[1]\n",
    "        \n",
    "        optimizer = SGD(self.lr)   \n",
    "        \n",
    "        \n",
    "        self.FC1 = FC(self.n_features, self.n_nodes1, SimpleInitializer(self.sigma), optimizer)\n",
    "        self.activation1 = Tanh()\n",
    "        self.FC2 = FC(self.n_nodes1, self.n_nodes2, SimpleInitializer(self.sigma), optimizer)\n",
    "        self.activation2 = Tanh()\n",
    "        self.FC3 = FC(self.n_nodes2, self.n_output, SimpleInitializer(self.sigma), optimizer)\n",
    "        self.activation3 = Identity()\n",
    "        \n",
    "        # エポック数分繰り返す\n",
    "        for epoch in range(self.num_epoch):\n",
    "            #print(epoch)\n",
    "            for i, (mini_X, mini_y) in enumerate(get_mini_batch):\n",
    "                \"\"\"\n",
    "                フォワードプロパゲーション\n",
    "                \"\"\"\n",
    "                A1 = self.FC1.forward(X)\n",
    "                Z1 = self.activation1.forward(A1)\n",
    "                A2 = self.FC2.forward(Z1)\n",
    "                Z2 = self.activation2.forward(A2)\n",
    "                A3 = self.FC3.forward(Z2)\n",
    "                Z3 = self.activation3.forward(A3)\n",
    "                \n",
    "                \"\"\"\n",
    "                フォワードプロパゲーション\n",
    "                \"\"\"\n",
    "                dA3 = self.activation3.backward(Z3, y) # 交差エントロピー誤差とソフトマックスを合わせている\n",
    "                dZ2 = self.FC3.backward(dA3)\n",
    "                dA2 = self.activation2.backward(dZ2)\n",
    "                dZ1 = self.FC2.backward(dA2)\n",
    "                dA1 = self.activation1.backward(dZ1)\n",
    "                dZ0 = self.FC1.backward(dA1) # dZ0は使用しない\n",
    "                \n",
    "            # 平均二乗誤差\n",
    "            loss = MSE.calculation(dA3)\n",
    "            self.cost.append(loss)\n",
    "            \n",
    "    def predict(self, X):\n",
    "        # array変換\n",
    "        X = np.array(X)\n",
    "        \n",
    "        get_mini_batch = GetMiniBatch(X, X, batch_size=10)\n",
    "        \n",
    "        for i, (mini_X, mini_y) in enumerate(get_mini_batch):\n",
    "            A1 = self.FC1.forward(X)\n",
    "            Z1 = self.activation1.forward(A1)\n",
    "            A2 = self.FC2.forward(Z1)\n",
    "            Z2 = self.activation2.forward(A2)\n",
    "            A3 = self.FC3.forward(Z2)\n",
    "            Z3 = self.activation3.forward(A3)\n",
    "            \n",
    "        return Z3"
   ]
  },
  {
   "cell_type": "code",
   "execution_count": 4,
   "metadata": {},
   "outputs": [],
   "source": [
    "class FC:\n",
    "    \"\"\"\n",
    "    ノード数n_nodes1からn_nodes2への全結合層\n",
    "    Parameters\n",
    "    ----------\n",
    "    n_nodes1 : int\n",
    "      前の層のノード数\n",
    "    n_nodes2 : int\n",
    "      後の層のノード数\n",
    "    initializer : 初期化方法のインスタンス\n",
    "    optimizer : 最適化手法のインスタンス\n",
    "    \"\"\"\n",
    "    def __init__(self, n_nodes1, n_nodes2, initializer, optimizer):\n",
    "        self.optimizer = optimizer\n",
    "        self.n_nodes1 = n_nodes1\n",
    "        self.n_nodes2 = n_nodes2\n",
    "        # 初期化\n",
    "        # initializerのメソッドを使い、self.Wとself.Bを初期化する\n",
    "        self.W = initializer.W(n_nodes1, n_nodes2)\n",
    "        Log.log_print(1, \"self.W.shape{}\", self.W.shape, self)\n",
    "        Log.log_print(2, \"self.W{}\", self.W, self)\n",
    "        self.B = initializer.B(n_nodes2)\n",
    "        Log.log_print(1, \"self.B.shape{}\", self.B.shape, self)\n",
    "        Log.log_print(2, \"self.B{}\", self.B, self)   \n",
    "        self.forward_x = 0\n",
    "        self.dZ = 0\n",
    "        self.dA = 0\n",
    "        \n",
    "    def forward(self, X):\n",
    "        \"\"\"\n",
    "        フォワード\n",
    "        Parameters\n",
    "        ----------\n",
    "        X : 次の形のndarray, shape (batch_size, n_nodes1)\n",
    "            入力\n",
    "        Returns\n",
    "        ----------\n",
    "        A : 次の形のndarray, shape (batch_size, n_nodes2)\n",
    "            出力\n",
    "        \"\"\"\n",
    "        self.forward_x = X.copy()\n",
    "        Log.log_print(2, \"self.forward_x{}\", self.forward_x, self)\n",
    "        Log.log_print(1, \"self.forward_x.shape{}\", self.forward_x.shape, self)\n",
    "        A = np.dot(X, self.W) + self.B\n",
    "        Log.log_print(1, \"A.shape{}\", A.shape, self)\n",
    "        Log.log_print(2, \"A{}\", A, self)\n",
    "        return A\n",
    "    \n",
    "    def backward(self, dA):\n",
    "        \"\"\"\n",
    "        バックワード\n",
    "        Parameters\n",
    "        ----------\n",
    "        dA : 次の形のndarray, shape (batch_size, n_nodes2)\n",
    "            後ろから流れてきた勾配\n",
    "        Returns\n",
    "        ----------\n",
    "        dZ : 次の形のndarray, shape (batch_size, n_nodes1)\n",
    "            前に流す勾配\n",
    "        \"\"\"\n",
    "        Log.log_print(1, \"更新前\", obj=self)\n",
    "        Log.log_print(1, \"self.B{}\", self.B.shape, self)\n",
    "        Log.log_print(1, \"self.W{}\", self.W.shape, self)\n",
    "        \n",
    "        self.dA = dA\n",
    "        Log.log_print(1, \"self.dA.shape{}\", self.dA.shape, self)\n",
    "        \n",
    "        self.dZ = np.dot(dA, self.W.T)\n",
    "        Log.log_print(1, \"self.dZ.shape{}\", self.dZ.shape, self)\n",
    "        \n",
    "        Log.log_print(2, \"self.dZ{}\", self.dZ)\n",
    "        Log.log_print(1, \"self.dZ.shape{}\", self.dZ.shape, self)\n",
    "        \n",
    "        # 更新\n",
    "        self.optimizer.update(self)\n",
    "        \n",
    "        Log.log_print(1, \"更新後\", obj=self)\n",
    "        Log.log_print(1, \"self.B{}{}\", (self.B.shape, self.B), self)\n",
    "        Log.log_print(1, \"self.W{}\", self.W.shape, self)\n",
    "        \n",
    "        return self.dZ"
   ]
  },
  {
   "cell_type": "code",
   "execution_count": 5,
   "metadata": {},
   "outputs": [],
   "source": [
    "class SimpleInitializer:\n",
    "    \"\"\"\n",
    "    ガウス分布によるシンプルな初期化\n",
    "    Parameters\n",
    "    ----------\n",
    "    sigma : float\n",
    "      ガウス分布の標準偏差\n",
    "    function : std\n",
    "      初期関数のモード\n",
    "    \"\"\"\n",
    "    def __init__(self, sigma):\n",
    "        self.sigma = sigma\n",
    "    def W(self, n_nodes1, n_nodes2):\n",
    "        \"\"\"\n",
    "        重みの初期化\n",
    "        Parameters\n",
    "        ----------\n",
    "        n_nodes1 : int\n",
    "          前の層のノード数\n",
    "        n_nodes2 : int\n",
    "          後の層のノード数\n",
    "\n",
    "        Returns\n",
    "        ----------\n",
    "        W :\n",
    "        \"\"\"\n",
    "        W = self.sigma * np.random.randn(n_nodes1, n_nodes2)\n",
    "        return W\n",
    "    \n",
    "    def B(self, n_nodes2):\n",
    "        \"\"\"\n",
    "        バイアスの初期化\n",
    "        Parameters\n",
    "        ----------\n",
    "        n_nodes2 : int\n",
    "          後の層のノード数\n",
    "\n",
    "        Returns\n",
    "        ----------\n",
    "        B :\n",
    "        \"\"\"\n",
    "        B = self.sigma * np.random.randn(1, n_nodes2)\n",
    "        return B"
   ]
  },
  {
   "cell_type": "code",
   "execution_count": 6,
   "metadata": {},
   "outputs": [],
   "source": [
    "class SGD:\n",
    "    \"\"\"\n",
    "    確率的勾配降下法\n",
    "    Parameters\n",
    "    ----------\n",
    "    lr : 学習率\n",
    "    \"\"\"\n",
    "    def __init__(self, lr):\n",
    "        self.lr = lr\n",
    "    def update(self, layer):\n",
    "        \"\"\"\n",
    "        ある層の重みやバイアスの更新\n",
    "        Parameters\n",
    "        ----------\n",
    "        layer : 更新前の層のインスタンス\n",
    "\n",
    "        Returns\n",
    "        ----------\n",
    "        layer : 更新後の層のインスタンス\n",
    "        \"\"\"\n",
    "        layer.W = layer.W - self.lr*np.dot(layer.forward_x.T, layer.dA) / layer.dA.shape[0]\n",
    "        layer.B = layer.B - self.lr*np.mean(layer.dA, axis=0)[np.newaxis,:]\n",
    "        \n",
    "        Log.log_print(1, \"layer.W.shape{}\", layer.W.shape, self)\n",
    "        Log.log_print(2, \"layer.W{}\", layer.W, self)\n",
    "        Log.log_print(1, \"layer.B.shape{}\", layer.B.shape, self)\n",
    "        Log.log_print(2, \"layer.B{}\", layer.B, self)\n",
    "        \n",
    "        #return layer"
   ]
  },
  {
   "cell_type": "code",
   "execution_count": 7,
   "metadata": {},
   "outputs": [],
   "source": [
    "class Tanh:\n",
    "    def __init__(self):\n",
    "        self.A = 0\n",
    "        \n",
    "    def forward(self, A):\n",
    "        self.A = A\n",
    "        return np.tanh(A)\n",
    "    \n",
    "    def backward(self, dZ):\n",
    "        dA = dZ *(1 - np.tanh(self.A)**2)\n",
    "        Log.log_print(1, \"dA.shape{}{}\", (dA.shape, dA), self)\n",
    "        Log.log_print(2, \"dA{}\", dA, self)\n",
    "        return dA"
   ]
  },
  {
   "cell_type": "code",
   "execution_count": 8,
   "metadata": {},
   "outputs": [],
   "source": [
    "class Identity:\n",
    "    def __init__(self):\n",
    "        pass\n",
    "    \n",
    "    def forward(self, A):\n",
    "        return A\n",
    "    \n",
    "    def backward(self, Yhat, Y):\n",
    "        return Yhat - Y"
   ]
  },
  {
   "cell_type": "code",
   "execution_count": 9,
   "metadata": {},
   "outputs": [],
   "source": [
    "class MSE:\n",
    "    @classmethod\n",
    "    def calculation(self, loss):\n",
    "        return np.mean((loss)**2) / 2"
   ]
  },
  {
   "cell_type": "code",
   "execution_count": 10,
   "metadata": {},
   "outputs": [],
   "source": [
    "class GetMiniBatch:\n",
    "    \"\"\"\n",
    "    ミニバッチを取得するイテレータ\n",
    "\n",
    "    Parameters\n",
    "    ----------\n",
    "    X : 次の形のndarray, shape (n_samples, n_features)\n",
    "      学習データ\n",
    "    y : 次の形のndarray, shape (n_samples, 1)または(n_samples,)\n",
    "      正解値\n",
    "    batch_size : int\n",
    "      バッチサイズ\n",
    "    seed : int\n",
    "      NumPyの乱数のシード\n",
    "\n",
    "    Retruns\n",
    "    ----------\n",
    "    for文で呼び出すと以下の2つを返す。最後のイテレーションでは、バッチサイズより小さいこともある。\n",
    "    mini_X : 次の形のndarray, shape (batch_size, n_features)\n",
    "      学習データのミニバッチ\n",
    "    mini_y : 次の形のndarray, shape (batch_size, 1)または(batch_size,)\n",
    "      正解値のミニバッチ\n",
    "    \"\"\"\n",
    "    def __init__(self, X, y, batch_size = 10, seed=0):\n",
    "        self.batch_size = batch_size\n",
    "        # ランダムに並べ換える\n",
    "        np.random.seed(seed)\n",
    "        shuffle_index = np.random.permutation(np.arange(X.shape[0]))\n",
    "        self.X = X[shuffle_index]\n",
    "        self.y = y[shuffle_index]\n",
    "        self._counter = 0\n",
    "        # イテレーション数を計算する\n",
    "        self._stop = np.ceil(X.shape[0]/self.batch_size).astype(np.int)\n",
    "\n",
    "    def __len__(self):\n",
    "        # len()が使われたときの処理\n",
    "        return self._stop\n",
    "\n",
    "    def __iter__(self):\n",
    "        return self\n",
    "\n",
    "    def __next__(self):\n",
    "        # for文で呼ばれた際のループごとの処理\n",
    "        if self._counter >= self._stop:\n",
    "            # 最後まで進んだら終了\n",
    "            self._counter = 0\n",
    "            raise StopIteration()\n",
    "\n",
    "        p0 = self._counter*self.batch_size\n",
    "        p1 = self._counter*self.batch_size + self.batch_size\n",
    "        self._counter += 1\n",
    "        return self.X[p0:p1], self.y[p0:p1]"
   ]
  },
  {
   "cell_type": "code",
   "execution_count": 11,
   "metadata": {},
   "outputs": [],
   "source": [
    "class DropOut:\n",
    "    def __init__(self, P):\n",
    "        self.P = 1 - P # 生存率\n",
    "        self.mask = None\n",
    "        \n",
    "    def forward(self, X):\n",
    "        self.mask = np.random.rand(*X.shape) > self.P\n",
    "        return X*self.mask\n",
    "    \n",
    "    def backward(self, X):\n",
    "        return X*self.mask"
   ]
  },
  {
   "cell_type": "markdown",
   "metadata": {},
   "source": [
    "# 2. データセットの用意"
   ]
  },
  {
   "cell_type": "code",
   "execution_count": 12,
   "metadata": {},
   "outputs": [
    {
     "name": "stderr",
     "output_type": "stream",
     "text": [
      "/home/hiro/anaconda3/lib/python3.6/site-packages/sklearn/utils/deprecation.py:77: DeprecationWarning: Function fetch_mldata is deprecated; fetch_mldata was deprecated in version 0.20 and will be removed in version 0.22\n",
      "  warnings.warn(msg, category=DeprecationWarning)\n",
      "/home/hiro/anaconda3/lib/python3.6/site-packages/sklearn/utils/deprecation.py:77: DeprecationWarning: Function mldata_filename is deprecated; mldata_filename was deprecated in version 0.20 and will be removed in version 0.22\n",
      "  warnings.warn(msg, category=DeprecationWarning)\n"
     ]
    }
   ],
   "source": [
    "from sklearn.datasets import fetch_mldata\n",
    "from sklearn.model_selection import train_test_split\n",
    "\n",
    "# 保存先を指定\n",
    "mnist_dir = \"./mnist_data/\"\n",
    "\n",
    "# MNISTの読み込み\n",
    "mnist = fetch_mldata('MNIST original', data_home=mnist_dir)\n",
    "# trainとtestに分割する\n",
    "X_train, X_test, y_train, y_test = train_test_split(mnist.data, mnist.target, test_size=0.14285, shuffle=False)\n",
    "# ラベルをint型にしておく\n",
    "y_train = y_train.astype(np.int)\n",
    "y_test = y_test.astype(np.int)"
   ]
  },
  {
   "cell_type": "markdown",
   "metadata": {},
   "source": [
    "## データセットの確認"
   ]
  },
  {
   "cell_type": "code",
   "execution_count": 13,
   "metadata": {
    "scrolled": true
   },
   "outputs": [
    {
     "name": "stdout",
     "output_type": "stream",
     "text": [
      "(60000, 784)\n",
      "(10000, 784)\n",
      "uint8\n",
      "[  0   0   0   0   0   0   0   0   0   0   0   0   0   0   0   0   0   0\n",
      "   0   0   0   0   0   0   0   0   0   0   0   0   0   0   0   0   0   0\n",
      "   0   0   0   0   0   0   0   0   0   0   0   0   0   0   0   0   0   0\n",
      "   0   0   0   0   0   0   0   0   0   0   0   0   0   0   0   0   0   0\n",
      "   0   0   0   0   0   0   0   0   0   0   0   0   0   0   0   0   0   0\n",
      "   0   0   0   0   0   0   0   0   0   0   0   0   0   0   0   0   0   0\n",
      "   0   0   0   0   0   0   0   0   0   0   0   0   0   0   0   0   0   0\n",
      "   0  51 159 253 159  50   0   0   0   0   0   0   0   0   0   0   0   0\n",
      "   0   0   0   0   0   0   0   0   0   0  48 238 252 252 252 237   0   0\n",
      "   0   0   0   0   0   0   0   0   0   0   0   0   0   0   0   0   0   0\n",
      "   0  54 227 253 252 239 233 252  57   6   0   0   0   0   0   0   0   0\n",
      "   0   0   0   0   0   0   0   0   0  10  60 224 252 253 252 202  84 252\n",
      " 253 122   0   0   0   0   0   0   0   0   0   0   0   0   0   0   0   0\n",
      "   0 163 252 252 252 253 252 252  96 189 253 167   0   0   0   0   0   0\n",
      "   0   0   0   0   0   0   0   0   0   0  51 238 253 253 190 114 253 228\n",
      "  47  79 255 168   0   0   0   0   0   0   0   0   0   0   0   0   0   0\n",
      "   0  48 238 252 252 179  12  75 121  21   0   0 253 243  50   0   0   0\n",
      "   0   0   0   0   0   0   0   0   0   0  38 165 253 233 208  84   0   0\n",
      "   0   0   0   0 253 252 165   0   0   0   0   0   0   0   0   0   0   0\n",
      "   0   7 178 252 240  71  19  28   0   0   0   0   0   0 253 252 195   0\n",
      "   0   0   0   0   0   0   0   0   0   0   0  57 252 252  63   0   0   0\n",
      "   0   0   0   0   0   0 253 252 195   0   0   0   0   0   0   0   0   0\n",
      "   0   0   0 198 253 190   0   0   0   0   0   0   0   0   0   0 255 253\n",
      " 196   0   0   0   0   0   0   0   0   0   0   0  76 246 252 112   0   0\n",
      "   0   0   0   0   0   0   0   0 253 252 148   0   0   0   0   0   0   0\n",
      "   0   0   0   0  85 252 230  25   0   0   0   0   0   0   0   0   7 135\n",
      " 253 186  12   0   0   0   0   0   0   0   0   0   0   0  85 252 223   0\n",
      "   0   0   0   0   0   0   0   7 131 252 225  71   0   0   0   0   0   0\n",
      "   0   0   0   0   0   0  85 252 145   0   0   0   0   0   0   0  48 165\n",
      " 252 173   0   0   0   0   0   0   0   0   0   0   0   0   0   0  86 253\n",
      " 225   0   0   0   0   0   0 114 238 253 162   0   0   0   0   0   0   0\n",
      "   0   0   0   0   0   0   0   0  85 252 249 146  48  29  85 178 225 253\n",
      " 223 167  56   0   0   0   0   0   0   0   0   0   0   0   0   0   0   0\n",
      "  85 252 252 252 229 215 252 252 252 196 130   0   0   0   0   0   0   0\n",
      "   0   0   0   0   0   0   0   0   0   0  28 199 252 252 253 252 252 233\n",
      " 145   0   0   0   0   0   0   0   0   0   0   0   0   0   0   0   0   0\n",
      "   0   0   0  25 128 252 253 252 141  37   0   0   0   0   0   0   0   0\n",
      "   0   0   0   0   0   0   0   0   0   0   0   0   0   0   0   0   0   0\n",
      "   0   0   0   0   0   0   0   0   0   0   0   0   0   0   0   0   0   0\n",
      "   0   0   0   0   0   0   0   0   0   0   0   0   0   0   0   0   0   0\n",
      "   0   0   0   0   0   0   0   0   0   0   0   0   0   0   0   0   0   0\n",
      "   0   0   0   0   0   0   0   0   0   0   0   0   0   0   0   0   0   0\n",
      "   0   0   0   0   0   0   0   0   0   0   0   0   0   0   0   0   0   0\n",
      "   0   0   0   0   0   0   0   0   0   0]\n"
     ]
    }
   ],
   "source": [
    "print(X_train.shape) # (60000, 784)\n",
    "print(X_test.shape) # (10000, 784)\n",
    "print(X_train[0].dtype) # uint8\n",
    "print(X_train[0])"
   ]
  },
  {
   "cell_type": "markdown",
   "metadata": {},
   "source": [
    "## 画像データの可視化"
   ]
  },
  {
   "cell_type": "code",
   "execution_count": 14,
   "metadata": {},
   "outputs": [
    {
     "data": {
      "image/png": "[encoded data removed]",
      "text/plain": [
       "<Figure size 432x288 with 1 Axes>"
      ]
     },
     "metadata": {
      "needs_background": "light"
     },
     "output_type": "display_data"
    }
   ],
   "source": [
    "import matplotlib.pyplot as plt\n",
    "%matplotlib inline\n",
    "index = 0\n",
    "image = X_train[index].reshape(28,28)\n",
    "# X_train[index]: (784,)\n",
    "# image: (28, 28)\n",
    "plt.imshow(image, 'gray')\n",
    "plt.title('label : {}'.format(y_train[index]))\n",
    "plt.show()"
   ]
  },
  {
   "cell_type": "markdown",
   "metadata": {},
   "source": [
    "## 前処理\n",
    "1. 画素値を0〜1の範囲に正規化する。<br>\n",
    "2. 正解ラベルをOneHot-Encoder"
   ]
  },
  {
   "cell_type": "code",
   "execution_count": 15,
   "metadata": {},
   "outputs": [
    {
     "name": "stdout",
     "output_type": "stream",
     "text": [
      "1.0\n",
      "0.0\n"
     ]
    }
   ],
   "source": [
    "X_train = X_train.astype(np.float)\n",
    "X_test = X_test.astype(np.float)\n",
    "X_train /= 255\n",
    "X_test /= 255\n",
    "print(X_train.max()) # 1.0\n",
    "print(X_train.min()) # 0.0"
   ]
  },
  {
   "cell_type": "code",
   "execution_count": 16,
   "metadata": {},
   "outputs": [
    {
     "name": "stdout",
     "output_type": "stream",
     "text": [
      "(60000,)\n",
      "(60000, 10)\n",
      "float64\n"
     ]
    }
   ],
   "source": [
    "from sklearn.preprocessing import OneHotEncoder\n",
    "enc = OneHotEncoder(handle_unknown='ignore', sparse=False)\n",
    "y_train_one_hot = enc.fit_transform(y_train[:, np.newaxis])\n",
    "y_test_one_hot = enc.transform(y_test[:, np.newaxis])\n",
    "print(y_train.shape) # (60000,)\n",
    "print(y_train_one_hot.shape) # (60000, 10)\n",
    "print(y_train_one_hot.dtype) # float64"
   ]
  },
  {
   "cell_type": "markdown",
   "metadata": {},
   "source": [
    "## SimpleConv1d 作成"
   ]
  },
  {
   "cell_type": "code",
   "execution_count": 26,
   "metadata": {},
   "outputs": [],
   "source": [
    "class SimpleConv1d:\n",
    "    def __init__(self, F, ir):\n",
    "        #self.W = np.random.randint(1, 10, (F,)).astype(np.float)\n",
    "        self.W = np.array([3,5,7]).astype(np.float)\n",
    "        self.F = F\n",
    "        self.forward_x = None\n",
    "        self.B = 1\n",
    "        self.ir = ir\n",
    "        print(\"self.W\", self.W)\n",
    "        \n",
    "    def forward(self, X):\n",
    "        self.forward_x = X.copy()\n",
    "        result = []\n",
    "\n",
    "        for i in range(len(x) - self.F + 1):\n",
    "            result.append(np.sum(self.W*X[i:i+self.F]))\n",
    "        \n",
    "        result = np.array(result) + self.B\n",
    "        \n",
    "        Log.log_print(1, \"result.shape:{}\", result.shape, self)\n",
    "        Log.log_print(2, \"result:{}\", result, self)\n",
    "        \n",
    "        Log.log_print(1, \"self.W.shape:{}\", self.W.shape, self)\n",
    "        Log.log_print(2, \"self.W:{}\", self.W, self)\n",
    "        \n",
    "        return result\n",
    "    \n",
    "    def backward(self, delta):\n",
    "        # バイアス\n",
    "        # 勾配\n",
    "        dB = np.sum(delta)\n",
    "        \n",
    "        Log.log_print(1, \"dB.shape:{}\", dB.shape, self)\n",
    "        Log.log_print(2, \"dB:{}\", dB, self)\n",
    "        \n",
    "        # 更新\n",
    "        self.B -= self.ir*dB.astype(np.float)\n",
    "        \n",
    "        Log.log_print(1, \"self.B.shape:{}\", self.B.shape, self)\n",
    "        Log.log_print(2, \"self.B:{}\", self.B , self)\n",
    "        \n",
    "        # 出力\n",
    "        #　勾配\n",
    "        dZ = []\n",
    "        Nout = len(delta)\n",
    "        \n",
    "        for i in range(len(self.forward_x)):\n",
    "            if(i == 0):\n",
    "                Log.log_print(1, \"delta[0].shape:{}\", delta[0].shape, self)\n",
    "                Log.log_print(2, \"delta:{}\", delta[0], self)\n",
    "                Log.log_print(1, \"self.W[-1].shape:{}\", self.W[-1].shape, self)\n",
    "                Log.log_print(2, \"self.W[-1]:{}\", self.W[-1], self)\n",
    "                \n",
    "                dZ.append(delta[0]*self.W[0])\n",
    "            \n",
    "            elif(i == (len(self.forward_x) -1)):\n",
    "                \n",
    "                Log.log_print(1, \"delta[-1].shape:{}\", delta[-1].shape, self)\n",
    "                Log.log_print(2, \"delta[-1]:{}\", delta[-1], self)\n",
    "                Log.log_print(1, \"self.W[-1].shape:{}\", self.W[-1].shape, self)\n",
    "                Log.log_print(2, \"self.W[-1]:{}\", self.W[-1], self)\n",
    "                \n",
    "                dZ.append(delta[-1]*self.W[-1])\n",
    "            else:\n",
    "                \n",
    "                Log.log_print(1, \"delta.shape:{}\", delta.shape, self)\n",
    "                Log.log_print(2, \"delta:{}\", delta, self)\n",
    "                Log.log_print(1, \"self.W[i-1:i-1+Nout].shape:{}\", self.W[i-1:i-1+Nout].shape, self)\n",
    "                Log.log_print(2, \"self.W[i-1:i-1+Nout]:{}\", self.W[i-1:i-1+Nout], self)\n",
    "                \n",
    "                dZ.append(np.sum(delta*self.W[i-1:i-1+Nout]))\n",
    "                \n",
    "        dZ = np.array(dZ)\n",
    "        \n",
    "        Log.log_print(1, \"dZ.shape:{}\", dZ.shape, self)\n",
    "        Log.log_print(2, \"dZ:{}\", dZ, self)\n",
    "        \n",
    "        # 重み\n",
    "        #　勾配\n",
    "        dW = []\n",
    "        for i in range(self.F):\n",
    "            \n",
    "            Log.log_print(1, \"delta.shape:{}\", delta.shape, self)\n",
    "            Log.log_print(2, \"delta:{}\", delta, self)\n",
    "            Log.log_print(1, \"self.forward_x[i:i+Nout].shape:{}\", self.forward_x[i:i+Nout].shape, self)\n",
    "            Log.log_print(2, \"self.forward_x[i:i+Nout]:{}\", self.forward_x[i:i+Nout], self)\n",
    "            \n",
    "            dW.append(np.sum(delta*self.forward_x[i:i+Nout]))\n",
    "        \n",
    "        dW = np.array(dW)\n",
    "        print(\"dW\", dW)\n",
    "        \n",
    "        # 更新\n",
    "        self.W -= self.ir*dW\n",
    "        \n",
    "        Log.log_print(1, \"self.dW.shape:{}\", dW.shape, self)\n",
    "        Log.log_print(2, \"self.dW:{}\", dW, self)\n",
    "        \n",
    "        return dZ"
   ]
  },
  {
   "cell_type": "markdown",
   "metadata": {},
   "source": [
    "## 実行結果"
   ]
  },
  {
   "cell_type": "code",
   "execution_count": 122,
   "metadata": {},
   "outputs": [],
   "source": [
    "x = np.array([1,2,3,4])\n",
    "w = np.array([3, 5, 7])\n",
    "b = np.array([1])"
   ]
  },
  {
   "cell_type": "code",
   "execution_count": 123,
   "metadata": {},
   "outputs": [
    {
     "name": "stdout",
     "output_type": "stream",
     "text": [
      "self.W [3. 5. 7.]\n",
      "result.shape:(2,)\n",
      "result:[35. 50.]\n",
      "self.W.shape:(3,)\n",
      "self.W:[3. 5. 7.]\n",
      "dB.shape:()\n",
      "dB:30\n",
      "self.B.shape:()\n",
      "self.B:-2.0\n",
      "delta[0].shape:()\n",
      "delta:10\n",
      "self.W[-1].shape:()\n",
      "self.W[-1]:7.0\n",
      "delta.shape:(2,)\n",
      "delta:[10 20]\n",
      "self.W[i-1:i-1+Nout].shape:(2,)\n",
      "self.W[i-1:i-1+Nout]:[3. 5.]\n",
      "delta.shape:(2,)\n",
      "delta:[10 20]\n",
      "self.W[i-1:i-1+Nout].shape:(2,)\n",
      "self.W[i-1:i-1+Nout]:[5. 7.]\n",
      "delta[-1].shape:()\n",
      "delta[-1]:20\n",
      "self.W[-1].shape:()\n",
      "self.W[-1]:7.0\n",
      "dZ.shape:(4,)\n",
      "dZ:[ 30. 130. 190. 140.]\n",
      "delta.shape:(2,)\n",
      "delta:[10 20]\n",
      "self.forward_x[i:i+Nout].shape:(2,)\n",
      "self.forward_x[i:i+Nout]:[1 2]\n",
      "delta.shape:(2,)\n",
      "delta:[10 20]\n",
      "self.forward_x[i:i+Nout].shape:(2,)\n",
      "self.forward_x[i:i+Nout]:[2 3]\n",
      "delta.shape:(2,)\n",
      "delta:[10 20]\n",
      "self.forward_x[i:i+Nout].shape:(2,)\n",
      "self.forward_x[i:i+Nout]:[3 4]\n",
      "dW [ 50  80 110]\n",
      "self.dW.shape:(3,)\n",
      "self.dW:[ 50  80 110]\n"
     ]
    },
    {
     "data": {
      "text/plain": [
       "array([ 30., 130., 190., 140.])"
      ]
     },
     "execution_count": 123,
     "metadata": {},
     "output_type": "execute_result"
    }
   ],
   "source": [
    "a = np.array([10, 20])\n",
    "testinstance = SimpleConv1d(3, 0.1)\n",
    "testinstance.forward(x)\n",
    "testinstance.backward(a)"
   ]
  },
  {
   "cell_type": "code",
   "execution_count": 27,
   "metadata": {},
   "outputs": [
    {
     "name": "stdout",
     "output_type": "stream",
     "text": [
      "self.W [3. 5. 7.]\n",
      "dW [ 50  80 110]\n"
     ]
    },
    {
     "data": {
      "text/plain": [
       "array([ 30., 130., 190., 140.])"
      ]
     },
     "execution_count": 27,
     "metadata": {},
     "output_type": "execute_result"
    }
   ],
   "source": [
    "a = np.array([10, 20])\n",
    "testinstance = SimpleConv1d(3, 0.1)\n",
    "testinstance.forward(x)\n",
    "testinstance.backward(a)"
   ]
  },
  {
   "cell_type": "code",
   "execution_count": 48,
   "metadata": {},
   "outputs": [
    {
     "data": {
      "text/plain": [
       "array([ 0,  0, 10, 20,  0,  0])"
      ]
     },
     "execution_count": 48,
     "metadata": {},
     "output_type": "execute_result"
    }
   ],
   "source": [
    "np.pad(a, 2, mode=\"constant\")"
   ]
  },
  {
   "cell_type": "code",
   "execution_count": 30,
   "metadata": {},
   "outputs": [],
   "source": [
    "test = np.array([\n",
    "    [1, 2], [1, 2]\n",
    "])"
   ]
  },
  {
   "cell_type": "code",
   "execution_count": 31,
   "metadata": {},
   "outputs": [
    {
     "data": {
      "text/plain": [
       "array([[1, 2],\n",
       "       [1, 2]])"
      ]
     },
     "execution_count": 31,
     "metadata": {},
     "output_type": "execute_result"
    }
   ],
   "source": [
    "test"
   ]
  },
  {
   "cell_type": "code",
   "execution_count": 43,
   "metadata": {},
   "outputs": [
    {
     "data": {
      "text/plain": [
       "array([[0, 0, 0, 0],\n",
       "       [0, 1, 2, 0],\n",
       "       [0, 1, 2, 0],\n",
       "       [0, 0, 0, 0]])"
      ]
     },
     "execution_count": 43,
     "metadata": {},
     "output_type": "execute_result"
    }
   ],
   "source": [
    "np.pad(test, (1), \"constant\")\n"
   ]
  },
  {
   "cell_type": "code",
   "execution_count": 49,
   "metadata": {},
   "outputs": [],
   "source": [
    "class SimpleConv1d:\n",
    "    def __init__(self, F, ir):\n",
    "        #self.W = np.random.randint(1, 10, (F,)).astype(np.float)\n",
    "        self.W = np.array([3,5,7]).astype(np.float)\n",
    "        self.F = F\n",
    "        self.forward_x = None\n",
    "        self.B = 1\n",
    "        self.ir = ir\n",
    "        print(\"self.W\", self.W)\n",
    "        \n",
    "    def forward(self, X):\n",
    "        self.forward_x = X.copy()\n",
    "        result = []\n",
    "\n",
    "        for i in range(len(x) - self.F + 1):\n",
    "            result.append(np.sum(self.W*X[i:i+self.F]))\n",
    "        \n",
    "        result = np.array(result) + self.B\n",
    "        \n",
    "        Log.log_print(1, \"result.shape:{}\", result.shape, self)\n",
    "        Log.log_print(2, \"result:{}\", result, self)\n",
    "        \n",
    "        Log.log_print(1, \"self.W.shape:{}\", self.W.shape, self)\n",
    "        Log.log_print(2, \"self.W:{}\", self.W, self)\n",
    "        \n",
    "        return result\n",
    "    \n",
    "    def backward(self, delta):\n",
    "        # バイアス\n",
    "        # 勾配\n",
    "        dB = np.sum(delta)\n",
    "        \n",
    "        Log.log_print(1, \"dB.shape:{}\", dB.shape, self)\n",
    "        Log.log_print(2, \"dB:{}\", dB, self)\n",
    "        \n",
    "        # 更新\n",
    "        self.B -= self.ir*dB.astype(np.float)\n",
    "        \n",
    "        Log.log_print(1, \"self.B.shape:{}\", self.B.shape, self)\n",
    "        Log.log_print(2, \"self.B:{}\", self.B , self)\n",
    "        \n",
    "        # 出力\n",
    "        #　勾配\n",
    "        dZ = []\n",
    "        Nout = len(delta)\n",
    "        \n",
    "        for i in range(len(self.forward_x)):\n",
    "            if(i == 0):\n",
    "                Log.log_print(1, \"delta[0].shape:{}\", delta[0].shape, self)\n",
    "                Log.log_print(2, \"delta:{}\", delta[0], self)\n",
    "                Log.log_print(1, \"self.W[-1].shape:{}\", self.W[-1].shape, self)\n",
    "                Log.log_print(2, \"self.W[-1]:{}\", self.W[-1], self)\n",
    "                \n",
    "                dZ.append(delta[0]*self.W[0])\n",
    "            \n",
    "            elif(i == (len(self.forward_x) -1)):\n",
    "                \n",
    "                Log.log_print(1, \"delta[-1].shape:{}\", delta[-1].shape, self)\n",
    "                Log.log_print(2, \"delta[-1]:{}\", delta[-1], self)\n",
    "                Log.log_print(1, \"self.W[-1].shape:{}\", self.W[-1].shape, self)\n",
    "                Log.log_print(2, \"self.W[-1]:{}\", self.W[-1], self)\n",
    "                \n",
    "                dZ.append(delta[-1]*self.W[-1])\n",
    "            else:\n",
    "                \n",
    "                Log.log_print(1, \"delta.shape:{}\", delta.shape, self)\n",
    "                Log.log_print(2, \"delta:{}\", delta, self)\n",
    "                Log.log_print(1, \"self.W[i-1:i-1+Nout].shape:{}\", self.W[i-1:i-1+Nout].shape, self)\n",
    "                Log.log_print(2, \"self.W[i-1:i-1+Nout]:{}\", self.W[i-1:i-1+Nout], self)\n",
    "                \n",
    "                dZ.append(np.sum(delta*self.W[i-1:i-1+Nout]))\n",
    "                \n",
    "        dZ = np.array(dZ)\n",
    "        \n",
    "        Log.log_print(1, \"dZ.shape:{}\", dZ.shape, self)\n",
    "        Log.log_print(2, \"dZ:{}\", dZ, self)\n",
    "        \n",
    "        # 重み\n",
    "        #　勾配\n",
    "        dW = []\n",
    "        for i in range(self.F):\n",
    "            \n",
    "            Log.log_print(1, \"delta.shape:{}\", delta.shape, self)\n",
    "            Log.log_print(2, \"delta:{}\", delta, self)\n",
    "            Log.log_print(1, \"self.forward_x[i:i+Nout].shape:{}\", self.forward_x[i:i+Nout].shape, self)\n",
    "            Log.log_print(2, \"self.forward_x[i:i+Nout]:{}\", self.forward_x[i:i+Nout], self)\n",
    "            \n",
    "            dW.append(np.sum(delta*self.forward_x[i:i+Nout]))\n",
    "        \n",
    "        dW = np.array(dW)\n",
    "        print(\"dW\", dW)\n",
    "        \n",
    "        # 更新\n",
    "        self.W -= self.ir*dW\n",
    "        \n",
    "        Log.log_print(1, \"self.dW.shape:{}\", dW.shape, self)\n",
    "        Log.log_print(2, \"self.dW:{}\", dW, self)\n",
    "        \n",
    "        return dZ"
   ]
  },
  {
   "cell_type": "code",
   "execution_count": 125,
   "metadata": {},
   "outputs": [],
   "source": [
    "x = np.array([[1, 2, 3, 4], [2, 3, 4, 5]]) # shape(2, 4)で、（入力チャンネル数、特徴量数）である。\n",
    "w = np.ones((3, 2, 3)) # 例の簡略化のため全て1とする。(出力チャンネル数、入力チャンネル数、フィルタサイズ)である。\n",
    "b = np.array([1, 2, 3]) "
   ]
  },
  {
   "cell_type": "code",
   "execution_count": 54,
   "metadata": {},
   "outputs": [
    {
     "data": {
      "text/plain": [
       "2"
      ]
     },
     "execution_count": 54,
     "metadata": {},
     "output_type": "execute_result"
    }
   ],
   "source": [
    "x.shape[0]"
   ]
  },
  {
   "cell_type": "code",
   "execution_count": 55,
   "metadata": {},
   "outputs": [
    {
     "data": {
      "text/plain": [
       "2"
      ]
     },
     "execution_count": 55,
     "metadata": {},
     "output_type": "execute_result"
    }
   ],
   "source": [
    "x.shape[1] - 3 + 1"
   ]
  },
  {
   "cell_type": "code",
   "execution_count": 56,
   "metadata": {},
   "outputs": [
    {
     "data": {
      "text/plain": [
       "range(0, 1)"
      ]
     },
     "execution_count": 56,
     "metadata": {},
     "output_type": "execute_result"
    }
   ],
   "source": [
    "np.where"
   ]
  },
  {
   "cell_type": "code",
   "execution_count": 63,
   "metadata": {},
   "outputs": [
    {
     "ename": "TypeError",
     "evalue": "'range' object is not callable",
     "output_type": "error",
     "traceback": [
      "\u001b[0;31m--------------------------------------------------------------------------\u001b[0m",
      "\u001b[0;31mTypeError\u001b[0m                                Traceback (most recent call last)",
      "\u001b[0;32m<ipython-input-63-3fae5e023a6d>\u001b[0m in \u001b[0;36m<module>\u001b[0;34m\u001b[0m\n\u001b[0;32m----> 1\u001b[0;31m \u001b[0ma\u001b[0m  \u001b[0;34m=\u001b[0m \u001b[0mnp\u001b[0m\u001b[0;34m.\u001b[0m\u001b[0marray\u001b[0m\u001b[0;34m(\u001b[0m\u001b[0mlist\u001b[0m\u001b[0;34m(\u001b[0m\u001b[0mrange\u001b[0m\u001b[0;34m(\u001b[0m\u001b[0;36m0\u001b[0m\u001b[0;34m,\u001b[0m\u001b[0;36m2\u001b[0m\u001b[0;34m)\u001b[0m\u001b[0;34m)\u001b[0m\u001b[0;34m)\u001b[0m\u001b[0;34m\u001b[0m\u001b[0m\n\u001b[0m\u001b[1;32m      2\u001b[0m \u001b[0ma\u001b[0m\u001b[0;34m\u001b[0m\u001b[0m\n",
      "\u001b[0;31mTypeError\u001b[0m: 'range' object is not callable"
     ]
    }
   ],
   "source": [
    "a  = np.array(list(range(0,2)))\n",
    "a"
   ]
  },
  {
   "cell_type": "code",
   "execution_count": 66,
   "metadata": {},
   "outputs": [
    {
     "data": {
      "text/plain": [
       "array([0, 1, 2])"
      ]
     },
     "execution_count": 66,
     "metadata": {},
     "output_type": "execute_result"
    }
   ],
   "source": [
    "np.arange(0,3)"
   ]
  },
  {
   "cell_type": "code",
   "execution_count": 86,
   "metadata": {},
   "outputs": [],
   "source": [
    "W = np.ones((3, 2, 3))"
   ]
  },
  {
   "cell_type": "code",
   "execution_count": 67,
   "metadata": {},
   "outputs": [],
   "source": [
    "index = []\n",
    "F=3\n",
    "for i in range(x.shape[1] - F + 1):\n",
    "    index.append(np.arange(i, i+F))"
   ]
  },
  {
   "cell_type": "code",
   "execution_count": 132,
   "metadata": {},
   "outputs": [],
   "source": [
    "index = np.vstack(index)"
   ]
  },
  {
   "cell_type": "code",
   "execution_count": 114,
   "metadata": {},
   "outputs": [],
   "source": [
    "newx = []\n",
    "for i in range(2):\n",
    "    for j in range(2):\n",
    "        newx.append(x[i][index[j]])"
   ]
  },
  {
   "cell_type": "code",
   "execution_count": 117,
   "metadata": {},
   "outputs": [],
   "source": [
    "t = np.vstack(newx)"
   ]
  },
  {
   "cell_type": "code",
   "execution_count": 154,
   "metadata": {},
   "outputs": [],
   "source": [
    "x=np.array([[11,12,13,14],[12,13,14,15]])"
   ]
  },
  {
   "cell_type": "code",
   "execution_count": 135,
   "metadata": {},
   "outputs": [
    {
     "data": {
      "text/plain": [
       "array([[0, 1, 2],\n",
       "       [1, 2, 3]])"
      ]
     },
     "execution_count": 135,
     "metadata": {},
     "output_type": "execute_result"
    }
   ],
   "source": [
    "index[:]"
   ]
  },
  {
   "cell_type": "code",
   "execution_count": 158,
   "metadata": {},
   "outputs": [
    {
     "data": {
      "text/plain": [
       "array([[11, 12, 13],\n",
       "       [12, 13, 14]])"
      ]
     },
     "execution_count": 158,
     "metadata": {},
     "output_type": "execute_result"
    }
   ],
   "source": [
    "x[:,index[0]]"
   ]
  },
  {
   "cell_type": "code",
   "execution_count": 148,
   "metadata": {},
   "outputs": [
    {
     "data": {
      "text/plain": [
       "array([1, 2, 3])"
      ]
     },
     "execution_count": 148,
     "metadata": {},
     "output_type": "execute_result"
    }
   ],
   "source": [
    "z=x[0]\n",
    "z[index[0]]"
   ]
  },
  {
   "cell_type": "code",
   "execution_count": 161,
   "metadata": {},
   "outputs": [
    {
     "data": {
      "text/plain": [
       "array([0, 1, 2])"
      ]
     },
     "execution_count": 161,
     "metadata": {},
     "output_type": "execute_result"
    }
   ],
   "source": [
    "index[0]"
   ]
  },
  {
   "cell_type": "code",
   "execution_count": 160,
   "metadata": {},
   "outputs": [
    {
     "data": {
      "text/plain": [
       "array([[11, 12, 13],\n",
       "       [12, 13, 14]])"
      ]
     },
     "execution_count": 160,
     "metadata": {},
     "output_type": "execute_result"
    }
   ],
   "source": [
    "x[:,index[0]]"
   ]
  },
  {
   "cell_type": "code",
   "execution_count": 107,
   "metadata": {},
   "outputs": [
    {
     "data": {
      "text/plain": [
       "array([[1, 2, 3, 4],\n",
       "       [2, 3, 4, 5]])"
      ]
     },
     "execution_count": 107,
     "metadata": {},
     "output_type": "execute_result"
    }
   ],
   "source": [
    "x = np.array([[1, 2, 3, 4],\n",
    "       [2, 3, 4, 5]])\n",
    "x"
   ]
  },
  {
   "cell_type": "code",
   "execution_count": 108,
   "metadata": {},
   "outputs": [
    {
     "data": {
      "text/plain": [
       "(6, 4)"
      ]
     },
     "execution_count": 108,
     "metadata": {},
     "output_type": "execute_result"
    }
   ],
   "source": [
    "x = np.matlib.repmat(x,F,1)\n",
    "x.shape"
   ]
  },
  {
   "cell_type": "code",
   "execution_count": 103,
   "metadata": {},
   "outputs": [
    {
     "data": {
      "text/plain": [
       "array([[[1, 2, 3, 4],\n",
       "        [2, 3, 4, 5]]])"
      ]
     },
     "execution_count": 103,
     "metadata": {},
     "output_type": "execute_result"
    }
   ],
   "source": [
    "t[np.newaxis,:,:]"
   ]
  },
  {
   "cell_type": "code",
   "execution_count": 81,
   "metadata": {},
   "outputs": [
    {
     "data": {
      "text/plain": [
       "(4, 4)"
      ]
     },
     "execution_count": 81,
     "metadata": {},
     "output_type": "execute_result"
    }
   ],
   "source": [
    "x.shape"
   ]
  },
  {
   "cell_type": "code",
   "execution_count": 118,
   "metadata": {},
   "outputs": [
    {
     "ename": "ValueError",
     "evalue": "shapes (1,4,3) and (3,2,3) not aligned: 3 (dim 2) != 2 (dim 1)",
     "output_type": "error",
     "traceback": [
      "\u001b[0;31m--------------------------------------------------------------------------\u001b[0m",
      "\u001b[0;31mValueError\u001b[0m                               Traceback (most recent call last)",
      "\u001b[0;32m<ipython-input-118-0cf1ffe1ea3d>\u001b[0m in \u001b[0;36m<module>\u001b[0;34m\u001b[0m\n\u001b[0;32m----> 1\u001b[0;31m \u001b[0mnp\u001b[0m\u001b[0;34m.\u001b[0m\u001b[0mdot\u001b[0m\u001b[0;34m(\u001b[0m\u001b[0mt\u001b[0m\u001b[0;34m[\u001b[0m\u001b[0mnp\u001b[0m\u001b[0;34m.\u001b[0m\u001b[0mnewaxis\u001b[0m\u001b[0;34m,\u001b[0m\u001b[0;34m:\u001b[0m\u001b[0;34m,\u001b[0m\u001b[0;34m:\u001b[0m\u001b[0;34m]\u001b[0m\u001b[0;34m,\u001b[0m \u001b[0mW\u001b[0m\u001b[0;34m.\u001b[0m\u001b[0mT\u001b[0m\u001b[0;34m)\u001b[0m\u001b[0;34m\u001b[0m\u001b[0m\n\u001b[0m",
      "\u001b[0;31mValueError\u001b[0m: shapes (1,4,3) and (3,2,3) not aligned: 3 (dim 2) != 2 (dim 1)"
     ]
    }
   ],
   "source": [
    "np.dot(t[np.newaxis,:,:], W.T)"
   ]
  },
  {
   "cell_type": "code",
   "execution_count": 89,
   "metadata": {},
   "outputs": [
    {
     "data": {
      "text/plain": [
       "array([[[1, 2, 3, 4],\n",
       "        [2, 3, 4, 5],\n",
       "        [1, 2, 3, 4],\n",
       "        [2, 3, 4, 5]]])"
      ]
     },
     "execution_count": 89,
     "metadata": {},
     "output_type": "execute_result"
    }
   ],
   "source": [
    "test"
   ]
  },
  {
   "cell_type": "code",
   "execution_count": 119,
   "metadata": {},
   "outputs": [
    {
     "data": {
      "text/plain": [
       "array([[[1, 2, 3],\n",
       "        [2, 3, 4],\n",
       "        [2, 3, 4],\n",
       "        [3, 4, 5]]])"
      ]
     },
     "execution_count": 119,
     "metadata": {},
     "output_type": "execute_result"
    }
   ],
   "source": [
    "t[np.newaxis,:,:]"
   ]
  },
  {
   "cell_type": "code",
   "execution_count": 128,
   "metadata": {},
   "outputs": [
    {
     "data": {
      "text/plain": [
       "(2, 3)"
      ]
     },
     "execution_count": 128,
     "metadata": {},
     "output_type": "execute_result"
    }
   ],
   "source": [
    "w[0].shape"
   ]
  },
  {
   "cell_type": "code",
   "execution_count": 130,
   "metadata": {},
   "outputs": [
    {
     "data": {
      "text/plain": [
       "[array([0, 1, 2]), array([1, 2, 3])]"
      ]
     },
     "execution_count": 130,
     "metadata": {},
     "output_type": "execute_result"
    }
   ],
   "source": [
    "index"
   ]
  },
  {
   "cell_type": "code",
   "execution_count": null,
   "metadata": {},
   "outputs": [],
   "source": []
  }
 ],
 "metadata": {
  "kernelspec": {
   "display_name": "Python 3",
   "language": "python",
   "name": "python3"
  },
  "language_info": {
   "codemirror_mode": {
    "name": "ipython",
    "version": 3
   },
   "file_extension": ".py",
   "mimetype": "text/x-python",
   "name": "python",
   "nbconvert_exporter": "python",
   "pygments_lexer": "ipython3",
   "version": "3.6.6"
  },
  "toc": {
   "base_numbering": 1,
   "nav_menu": {},
   "number_sections": false,
   "sideBar": true,
   "skip_h1_title": false,
   "title_cell": "Table of Contents",
   "title_sidebar": "Contents",
   "toc_cell": false,
   "toc_position": {},
   "toc_section_display": true,
   "toc_window_display": false
  }
 },
 "nbformat": 4,
 "nbformat_minor": 2
}
