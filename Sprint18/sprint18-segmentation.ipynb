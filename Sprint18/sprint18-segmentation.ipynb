{
 "cells": [
  {
   "cell_type": "markdown",
   "metadata": {},
   "source": [
    "# Sprint18"
   ]
  },
  {
   "cell_type": "markdown",
   "metadata": {},
   "source": [
    "## GitHubのデータ適用\n",
    "今回、参考にした「GitHub」からの「Unet」をkaggleのデータセットに合わせるにはフォルダーの構成を変更する必要がある。"
   ]
  },
  {
   "cell_type": "markdown",
   "metadata": {},
   "source": [
    "## Unet Train"
   ]
  },
  {
   "cell_type": "code",
   "execution_count": 1,
   "metadata": {},
   "outputs": [
    {
     "name": "stderr",
     "output_type": "stream",
     "text": [
      "Using TensorFlow backend.\n"
     ]
    }
   ],
   "source": [
    "from model import *\n",
    "from data import *"
   ]
  },
  {
   "cell_type": "code",
   "execution_count": 2,
   "metadata": {},
   "outputs": [
    {
     "name": "stderr",
     "output_type": "stream",
     "text": [
      "/home/hiro/workspase_python/diveintocode-term2/Sprint18/unet-master/model.py:63: UserWarning: Update your `Model` call to the Keras 2 API: `Model(inputs=Tensor(\"in..., outputs=Tensor(\"co...)`\n",
      "  model = Model(input = inputs, output = conv10)\n"
     ]
    },
    {
     "name": "stdout",
     "output_type": "stream",
     "text": [
      "Epoch 1/1\n",
      "Found 4000 images belonging to 1 classes.\n",
      "Found 4000 images belonging to 1 classes.\n",
      "test\n",
      "1/1 [==============================] - 21s 21s/step - loss: 0.7148 - acc: 0.4598\n",
      "\n",
      "Epoch 00001: loss improved from inf to 0.71478, saving model to unet_membrane.hdf5\n"
     ]
    },
    {
     "data": {
      "text/plain": [
       "<keras.callbacks.History at 0x7f575ae70f98>"
      ]
     },
     "execution_count": 2,
     "metadata": {},
     "output_type": "execute_result"
    }
   ],
   "source": [
    "data_gen_args = dict(rotation_range=0.2,\n",
    "                    width_shift_range=0.05,\n",
    "                    height_shift_range=0.05,\n",
    "                    shear_range=0.05,\n",
    "                    zoom_range=0.05,\n",
    "                    horizontal_flip=True,\n",
    "                    fill_mode='nearest')\n",
    "myGene = trainGenerator(2,'data/kaggle/train','images','masks',data_gen_args,save_to_dir = None)\n",
    "model = unet()\n",
    "model_checkpoint = ModelCheckpoint('unet_membrane.hdf5', monitor='loss',verbose=1, save_best_only=True)\n",
    "model.fit_generator(myGene,steps_per_epoch=1,epochs=1,callbacks=[model_checkpoint])"
   ]
  },
  {
   "cell_type": "markdown",
   "metadata": {},
   "source": [
    "## Unet Predict"
   ]
  },
  {
   "cell_type": "code",
   "execution_count": 6,
   "metadata": {
    "scrolled": true
   },
   "outputs": [
    {
     "name": "stdout",
     "output_type": "stream",
     "text": [
      "\r",
      "1/1 [==============================] - 3s 3s/step\n"
     ]
    }
   ],
   "source": [
    "testGene = testGenerator(\"./data/kaggle/test/images\")\n",
    "\n",
    "model = unet()\n",
    "model.load_weights(\"unet_membrane.hdf5\")\n",
    "results = model.predict_generator(testGene,1,verbose=1)\n",
    "saveResult(save_path=\"data/membrane/test\",test_path=\"./data/kaggle/test/images\",npyfile=results)"
   ]
  },
  {
   "cell_type": "markdown",
   "metadata": {},
   "source": [
    "## プレディク画像ファイル名を変更\n",
    "入力画像と同じ名前で保存するには以下の様に修正する必要がある。"
   ]
  },
  {
   "cell_type": "code",
   "execution_count": 4,
   "metadata": {},
   "outputs": [],
   "source": [
    "def saveResult(save_path,test_path,npyfile,flag_multi_class = False,num_class = 2):\n",
    "    #for idx, img_name in enumerate(sorted(os.listdir(test_path))):\n",
    "    testname = sorted(os.listdir(test_path))\n",
    "    for i,item in enumerate(npyfile):\n",
    "        img = labelVisualize(num_class,COLOR_DICT,item) if flag_multi_class else item[:,:,0]\n",
    "        name = testname[i]\n",
    "        name = name.replace('.png', '')\n",
    "        io.imsave(os.path.join(save_path,\"%s_predict.png\"%name),img)"
   ]
  },
  {
   "cell_type": "markdown",
   "metadata": {},
   "source": [
    "## 論文とソースコード"
   ]
  },
  {
   "cell_type": "markdown",
   "metadata": {},
   "source": [
    "今回のコア部分である「Unet」は「model.py」に実装されている。<br>\n",
    "Dawn Sampling、Up Sampling ともに畳み込み後に活性化関数(ReLu)に掛けている。<br>\n",
    "Down Smapling を5層まで行い、それ以降の層では Up Smapling を行っている。<br>\n",
    "\n",
    "```python\n",
    "import numpy as np \n",
    "import os\n",
    "import skimage.io as io\n",
    "import skimage.transform as trans\n",
    "import numpy as np\n",
    "from keras.models import *\n",
    "from keras.layers import *\n",
    "from keras.optimizers import *\n",
    "from keras.callbacks import ModelCheckpoint, LearningRateScheduler\n",
    "from keras import backend as keras\n",
    "\n",
    "\n",
    "def unet(pretrained_weights = None,input_size = (256,256,1)):\n",
    "    inputs = Input(input_size)\n",
    "    conv1 = Conv2D(64, 3, activation = 'relu', padding = 'same', kernel_initializer = 'he_normal')(inputs)\n",
    "    conv1 = Conv2D(64, 3, activation = 'relu', padding = 'same', kernel_initializer = 'he_normal')(conv1)\n",
    "    pool1 = MaxPooling2D(pool_size=(2, 2))(conv1)\n",
    "    conv2 = Conv2D(128, 3, activation = 'relu', padding = 'same', kernel_initializer = 'he_normal')(pool1)\n",
    "    conv2 = Conv2D(128, 3, activation = 'relu', padding = 'same', kernel_initializer = 'he_normal')(conv2)\n",
    "    pool2 = MaxPooling2D(pool_size=(2, 2))(conv2)\n",
    "    conv3 = Conv2D(256, 3, activation = 'relu', padding = 'same', kernel_initializer = 'he_normal')(pool2)\n",
    "    conv3 = Conv2D(256, 3, activation = 'relu', padding = 'same', kernel_initializer = 'he_normal')(conv3)\n",
    "    pool3 = MaxPooling2D(pool_size=(2, 2))(conv3)\n",
    "    conv4 = Conv2D(512, 3, activation = 'relu', padding = 'same', kernel_initializer = 'he_normal')(pool3)\n",
    "    conv4 = Conv2D(512, 3, activation = 'relu', padding = 'same', kernel_initializer = 'he_normal')(conv4)\n",
    "    drop4 = Dropout(0.5)(conv4)\n",
    "    pool4 = MaxPooling2D(pool_size=(2, 2))(drop4)\n",
    "\n",
    "    conv5 = Conv2D(1024, 3, activation = 'relu', padding = 'same', kernel_initializer = 'he_normal')(pool4)\n",
    "    conv5 = Conv2D(1024, 3, activation = 'relu', padding = 'same', kernel_initializer = 'he_normal')(conv5)\n",
    "    drop5 = Dropout(0.5)(conv5)\n",
    "\n",
    "    up6 = Conv2D(512, 2, activation = 'relu', padding = 'same', kernel_initializer = 'he_normal')(UpSampling2D(size = (2,2))(drop5))\n",
    "    merge6 = concatenate([drop4,up6], axis = 3)\n",
    "    conv6 = Conv2D(512, 3, activation = 'relu', padding = 'same', kernel_initializer = 'he_normal')(merge6)\n",
    "    conv6 = Conv2D(512, 3, activation = 'relu', padding = 'same', kernel_initializer = 'he_normal')(conv6)\n",
    "\n",
    "    up7 = Conv2D(256, 2, activation = 'relu', padding = 'same', kernel_initializer = 'he_normal')(UpSampling2D(size = (2,2))(conv6))\n",
    "    merge7 = concatenate([conv3,up7], axis = 3)\n",
    "    conv7 = Conv2D(256, 3, activation = 'relu', padding = 'same', kernel_initializer = 'he_normal')(merge7)\n",
    "    conv7 = Conv2D(256, 3, activation = 'relu', padding = 'same', kernel_initializer = 'he_normal')(conv7)\n",
    "\n",
    "    up8 = Conv2D(128, 2, activation = 'relu', padding = 'same', kernel_initializer = 'he_normal')(UpSampling2D(size = (2,2))(conv7))\n",
    "    merge8 = concatenate([conv2,up8], axis = 3)\n",
    "    conv8 = Conv2D(128, 3, activation = 'relu', padding = 'same', kernel_initializer = 'he_normal')(merge8)\n",
    "    conv8 = Conv2D(128, 3, activation = 'relu', padding = 'same', kernel_initializer = 'he_normal')(conv8)\n",
    "\n",
    "    up9 = Conv2D(64, 2, activation = 'relu', padding = 'same', kernel_initializer = 'he_normal')(UpSampling2D(size = (2,2))(conv8))\n",
    "    merge9 = concatenate([conv1,up9], axis = 3)\n",
    "    conv9 = Conv2D(64, 3, activation = 'relu', padding = 'same', kernel_initializer = 'he_normal')(merge9)\n",
    "    conv9 = Conv2D(64, 3, activation = 'relu', padding = 'same', kernel_initializer = 'he_normal')(conv9)\n",
    "    conv9 = Conv2D(2, 3, activation = 'relu', padding = 'same', kernel_initializer = 'he_normal')(conv9)\n",
    "    conv10 = Conv2D(1, 1, activation = 'sigmoid')(conv9)\n",
    "\n",
    "    model = Model(input = inputs, output = conv10)\n",
    "\n",
    "    model.compile(optimizer = Adam(lr = 1e-4), loss = 'binary_crossentropy', metrics = ['accuracy'])\n",
    "    \n",
    "    #model.summary()\n",
    "\n",
    "    if(pretrained_weights):\n",
    "    \tmodel.load_weights(pretrained_weights)\n",
    "\n",
    "    return model\n",
    "```"
   ]
  },
  {
   "cell_type": "markdown",
   "metadata": {},
   "source": [
    "## セグメンテーション"
   ]
  },
  {
   "cell_type": "markdown",
   "metadata": {},
   "source": [
    "### セマンティックセグメンテーションとインスタンスセグメンテーション"
   ]
  },
  {
   "cell_type": "markdown",
   "metadata": {},
   "source": [
    "画素（pixel）単位で『分類』を行いたい場合に、『』を使用する。<br>\n",
    "以下にセマンティック・セグメンテーションを示す。\n",
    "![](https://cpp-learning.com/wp-content/uploads/2018/08/PSPNet-768x825.jpg)\n",
    "上が入力画像、下が処理後の結果画像である。画素（pixel）１つ１つを分類し色付けすることができる。<br>\n",
    "『セマンティック・セグメンテーション』の意味は以下の通りである。<br>\n",
    "\n",
    "- セマンティック：情報を解釈する/意味付けする\n",
    "- セグメンテーション：分類する/小さい単位に分ける\n",
    "- セマンティック・セグメンテーション：画素（単位）で意味付けする/分類する"
   ]
  },
  {
   "cell_type": "markdown",
   "metadata": {},
   "source": [
    "### インスタンス・セグメンテーション\n",
    "『セマンティック・セグメンテーション』は画素（pixel）単位で分類が可能だが、同じラベルの物体が重なっている場合、物体同士の境界がわからなくなる。『物体検出』のように物体１つ１つの位置を検出し、かつ物体を画素（pixel）単位で『分類』したい場合、『インスタンス・セグメンテーション』を使用する。\n",
    "![](https://cpp-learning.com/wp-content/uploads/2018/08/FCIS-768x488.jpg)"
   ]
  },
  {
   "cell_type": "markdown",
   "metadata": {},
   "source": [
    "## 物体検出や画像分類との違い\n",
    "### 画像分類\n",
    "『画像分類』とは、画像に移っている物体が、事前に学習した物体のどれに一番近いかを分類する処理のことである。\n",
    "\n",
    "\n",
    "【一致度リスト】\n",
    "\n",
    "    フクロウ：99%\n",
    "    鳥：95%\n",
    "    猫：77%\n",
    "    犬：42%\n",
    "    靴：90%\n",
    "    人：86%\n",
    "\n",
    "\n",
    "![](https://cpp-learning.com/wp-content/uploads/2018/08/kururu500.jpg)\n",
    "\n",
    "”フクロウの画像”を事前に学習していれば、フクロウとの一致率が一番高く出るが、フクロウ・はやぶさ・インコ・ニワトリなどを一括りで”鳥の画像”として学習させた場合は、鳥との一致度が一番高く出る。\n",
    "\n",
    "このように学習させるデータ（訓練データ）と訓練データの分類（ラベル付け）の仕方によって結果が変わる。\n",
    "\n",
    "### 物体検出\n",
    "上記した『画像分類』では、物体が画像上のどの位置にいるかまでは判断できない。物体の位置まで把握したい場合は、Yoloなどの物体検出アルゴリズムを採用する。\n",
    "![](https://cpp-learning.com/wp-content/uploads/2018/08/Object_Detect_Yolo.jpg)\n",
    "\n",
    "\n",
    "物体の位置を検出できるため、バウンディングボックス（アンカーボックスとも呼ぶ）で物体を囲うことができる。また、物体の分類（ラベル名）と一致度も算出される。\n",
    "\n",
    "### 物体検出や画像分類との違い\n",
    "上記した『物体検出』には様々な手法があるが、良くも悪くも物体の位置を大まかにしか検出できない。\n",
    "『セマンティック・セグメンテーション』を使用すれば、画素（pixel）単位で『分類』を行うことができる。"
   ]
  },
  {
   "cell_type": "markdown",
   "metadata": {},
   "source": [
    "## セグメンテーション手法\n",
    "### Fully Convolutional Networks for Semantic Segmentation\n",
    "この論文の手法の最も重要な提案手法は、CNNの最後の全結合層をConvolutionに置き換えるということである。例えば、AlexNetのConv5の次の全結合層は6x6のConvolution層と見なすことができる。このようにCNNの全結合層をConvolution層に置き換えることで出力を分類クラスではなく二次元マップに変えることができる。\n",
    "![](https://cdn-ak.f.st-hatena.com/images/fotolife/d/dl-kento/20170430/20170430215326.png)\n",
    "\n",
    "### SegNet\n",
    "風景画像のセグメンテーションを高速、省メモリで行う、というのが研究のモチベーションとなっている。\n",
    "この手法の工夫の一つはネットワーク構造にある。FCNのネットワークの、全結合層を畳み込み層に置き換えた部分は計算量が多くなっていて学習に時間がかかったりメモリを多くとる原因となっていた。SegNetでは全結合層だった部分を削除したEncoder-Decoder構造を採用している。これによって高速化、省メモリ化を達成できた。\n",
    "![](https://cdn-ak.f.st-hatena.com/images/fotolife/d/dl-kento/20170430/20170430224153.png)\n",
    "SegNetの工夫は右半分のDecoder部分にもある。Decoder部分のMaxPoolingで採用した値の場所を記録し、upsampling時にその場所を使って特徴マップを拡大する。これにより位置情報を正確化させている。\n",
    "![](https://cdn-ak.f.st-hatena.com/images/fotolife/d/dl-kento/20170430/20170430224454.png)\n",
    "\n",
    "### U-net\n",
    "U-netは医療画像のセグメンテーションのために提案されました 。セグメンテーションのタスクにおいて現時点でのstate-of-the-artと言われていてKaggleコンテストの優勝者が使っていた。\n",
    "\n",
    "U-netではSegNetのようなEncoder-Decoder構造をしていて、Encoder部分とDecoder部分の対応した解像度の特徴マップをつないでいる。論文では図がU型に配置されていてこれがU-netの名前の由来。\n",
    "![](https://cdn-ak.f.st-hatena.com/images/fotolife/d/dl-kento/20170430/20170430225135.png)\n",
    "その他の工夫としては、重み付けロスの採用がある。\n",
    "医療画像のセグメンテーションにおいてオブジェクト同士の境界をはっきり出すことは重要である。そのため、境界部分のロスを大きくし、はっきりと判読できるよう工夫している。つまり、タスクの目的にあった画像の前処理が必要ということである。"
   ]
  },
  {
   "cell_type": "markdown",
   "metadata": {},
   "source": [
    "## スキップコネクション\n",
    "### U-Netのようなセグメンテーション手法\n",
    "U-netの場合のスキップコネクションはダウンサンプリングからアップサンプリングする際に、位置情報補完するために、ダウンサンプリング時の画像を「Copy and Corp」し、その後Convを行っている。。これにより、位置情報を補完している。\n",
    "### ResNet[2]などの画像分類手法\n",
    "RetNetの場合はUnetは違い、Convするの前の画像をコピーするのではなく、そのまま加算をしている。ただし、ダウンサンプリング等を行って次元やサイズが合わない場合は、出力画像の次元、サイズに合わせてから加算を行う。"
   ]
  },
  {
   "cell_type": "code",
   "execution_count": null,
   "metadata": {},
   "outputs": [],
   "source": []
  }
 ],
 "metadata": {
  "kernelspec": {
   "display_name": "Python 3",
   "language": "python",
   "name": "python3"
  },
  "language_info": {
   "codemirror_mode": {
    "name": "ipython",
    "version": 3
   },
   "file_extension": ".py",
   "mimetype": "text/x-python",
   "name": "python",
   "nbconvert_exporter": "python",
   "pygments_lexer": "ipython3",
   "version": "3.6.6"
  },
  "toc": {
   "base_numbering": 1,
   "nav_menu": {},
   "number_sections": false,
   "sideBar": true,
   "skip_h1_title": false,
   "title_cell": "Table of Contents",
   "title_sidebar": "Contents",
   "toc_cell": false,
   "toc_position": {},
   "toc_section_display": true,
   "toc_window_display": false
  }
 },
 "nbformat": 4,
 "nbformat_minor": 2
}
